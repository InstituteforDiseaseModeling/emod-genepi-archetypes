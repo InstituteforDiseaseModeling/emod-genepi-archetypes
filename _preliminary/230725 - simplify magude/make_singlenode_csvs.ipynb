{
 "cells": [
  {
   "cell_type": "code",
   "execution_count": 1,
   "id": "71e6ad87-d8b3-4129-a704-4b5085e6659c",
   "metadata": {
    "tags": []
   },
   "outputs": [],
   "source": [
    "import pandas as pd\n",
    "import numpy as np"
   ]
  },
  {
   "cell_type": "markdown",
   "id": "a4fcd33b-677f-4960-ab03-18cca6eac90c",
   "metadata": {
    "tags": []
   },
   "source": [
    "Goal: create single-node version of Magude-Sede-Facazissa spatial sims, for e2e workflow"
   ]
  },
  {
   "cell_type": "code",
   "execution_count": 2,
   "id": "4b04b9a7-1d20-4a0a-9401-e431d34c1424",
   "metadata": {
    "tags": []
   },
   "outputs": [],
   "source": [
    "df_lookup = pd.read_csv(\"C:/Users/joshsu/Dropbox (IDM)/Malaria Team Folder/projects/mz_magude/inputs/csvs/reference/grid_lookup.csv\")"
   ]
  },
  {
   "cell_type": "code",
   "execution_count": 3,
   "id": "6a7668ed-06cd-443e-90db-0422ffd63eb1",
   "metadata": {
    "tags": []
   },
   "outputs": [
    {
     "data": {
      "text/plain": [
       "array(['Mapulanguene', 'Panjane-Caputine', 'Mahel', 'Chichuco', 'Moine',\n",
       "       'Magude-Sede-Facazissa', 'Chicutso', 'Motaze'], dtype=object)"
      ]
     },
     "execution_count": 3,
     "metadata": {},
     "output_type": "execute_result"
    }
   ],
   "source": [
    "df_lookup[\"catchment\"].unique()"
   ]
  },
  {
   "cell_type": "raw",
   "id": "b9bf7052-4357-4f69-8999-656b840042ae",
   "metadata": {
    "tags": []
   },
   "source": [
    "df_lookup = df_lookup[df_lookup[\"catchment\"] == \"Magude-Sede-Facazissa\"].reset_index(drop=True)"
   ]
  },
  {
   "cell_type": "code",
   "execution_count": 4,
   "id": "ce514f89-01f0-4e7c-bfd6-dc874190a2c8",
   "metadata": {
    "tags": []
   },
   "outputs": [
    {
     "data": {
      "text/html": [
       "<div>\n",
       "<style scoped>\n",
       "    .dataframe tbody tr th:only-of-type {\n",
       "        vertical-align: middle;\n",
       "    }\n",
       "\n",
       "    .dataframe tbody tr th {\n",
       "        vertical-align: top;\n",
       "    }\n",
       "\n",
       "    .dataframe thead th {\n",
       "        text-align: right;\n",
       "    }\n",
       "</style>\n",
       "<table border=\"1\" class=\"dataframe\">\n",
       "  <thead>\n",
       "    <tr style=\"text-align: right;\">\n",
       "      <th></th>\n",
       "      <th>grid_cell</th>\n",
       "      <th>lon</th>\n",
       "      <th>lat</th>\n",
       "      <th>bairro</th>\n",
       "      <th>bairro_name</th>\n",
       "      <th>catchment</th>\n",
       "      <th>pop</th>\n",
       "    </tr>\n",
       "  </thead>\n",
       "  <tbody>\n",
       "    <tr>\n",
       "      <th>0</th>\n",
       "      <td>2</td>\n",
       "      <td>32.073248</td>\n",
       "      <td>-24.489278</td>\n",
       "      <td>79</td>\n",
       "      <td>Bairro ii</td>\n",
       "      <td>Mapulanguene</td>\n",
       "      <td>76.0</td>\n",
       "    </tr>\n",
       "    <tr>\n",
       "      <th>1</th>\n",
       "      <td>3</td>\n",
       "      <td>32.073248</td>\n",
       "      <td>-24.480295</td>\n",
       "      <td>80</td>\n",
       "      <td>Bairro iii</td>\n",
       "      <td>Mapulanguene</td>\n",
       "      <td>67.0</td>\n",
       "    </tr>\n",
       "    <tr>\n",
       "      <th>2</th>\n",
       "      <td>4</td>\n",
       "      <td>32.083268</td>\n",
       "      <td>-24.507244</td>\n",
       "      <td>79</td>\n",
       "      <td>Bairro ii</td>\n",
       "      <td>Mapulanguene</td>\n",
       "      <td>17.0</td>\n",
       "    </tr>\n",
       "    <tr>\n",
       "      <th>3</th>\n",
       "      <td>5</td>\n",
       "      <td>32.083268</td>\n",
       "      <td>-24.498261</td>\n",
       "      <td>79</td>\n",
       "      <td>Bairro ii</td>\n",
       "      <td>Mapulanguene</td>\n",
       "      <td>48.0</td>\n",
       "    </tr>\n",
       "    <tr>\n",
       "      <th>4</th>\n",
       "      <td>6</td>\n",
       "      <td>32.083268</td>\n",
       "      <td>-24.489278</td>\n",
       "      <td>79</td>\n",
       "      <td>Bairro ii</td>\n",
       "      <td>Mapulanguene</td>\n",
       "      <td>207.0</td>\n",
       "    </tr>\n",
       "    <tr>\n",
       "      <th>...</th>\n",
       "      <td>...</td>\n",
       "      <td>...</td>\n",
       "      <td>...</td>\n",
       "      <td>...</td>\n",
       "      <td>...</td>\n",
       "      <td>...</td>\n",
       "      <td>...</td>\n",
       "    </tr>\n",
       "    <tr>\n",
       "      <th>1183</th>\n",
       "      <td>1297</td>\n",
       "      <td>32.965009</td>\n",
       "      <td>-24.830638</td>\n",
       "      <td>5</td>\n",
       "      <td>Muazana</td>\n",
       "      <td>Motaze</td>\n",
       "      <td>48.0</td>\n",
       "    </tr>\n",
       "    <tr>\n",
       "      <th>1184</th>\n",
       "      <td>1298</td>\n",
       "      <td>32.965009</td>\n",
       "      <td>-24.821655</td>\n",
       "      <td>5</td>\n",
       "      <td>Muazana</td>\n",
       "      <td>Motaze</td>\n",
       "      <td>56.0</td>\n",
       "    </tr>\n",
       "    <tr>\n",
       "      <th>1185</th>\n",
       "      <td>1299</td>\n",
       "      <td>32.965009</td>\n",
       "      <td>-24.812671</td>\n",
       "      <td>5</td>\n",
       "      <td>Muazana</td>\n",
       "      <td>Motaze</td>\n",
       "      <td>15.0</td>\n",
       "    </tr>\n",
       "    <tr>\n",
       "      <th>1186</th>\n",
       "      <td>1300</td>\n",
       "      <td>32.975029</td>\n",
       "      <td>-24.830638</td>\n",
       "      <td>5</td>\n",
       "      <td>Muazana</td>\n",
       "      <td>Motaze</td>\n",
       "      <td>1.0</td>\n",
       "    </tr>\n",
       "    <tr>\n",
       "      <th>1187</th>\n",
       "      <td>1301</td>\n",
       "      <td>32.985049</td>\n",
       "      <td>-24.821655</td>\n",
       "      <td>5</td>\n",
       "      <td>Muazana</td>\n",
       "      <td>Motaze</td>\n",
       "      <td>24.0</td>\n",
       "    </tr>\n",
       "  </tbody>\n",
       "</table>\n",
       "<p>1188 rows × 7 columns</p>\n",
       "</div>"
      ],
      "text/plain": [
       "      grid_cell        lon        lat  bairro bairro_name     catchment    pop\n",
       "0             2  32.073248 -24.489278      79   Bairro ii  Mapulanguene   76.0\n",
       "1             3  32.073248 -24.480295      80  Bairro iii  Mapulanguene   67.0\n",
       "2             4  32.083268 -24.507244      79   Bairro ii  Mapulanguene   17.0\n",
       "3             5  32.083268 -24.498261      79   Bairro ii  Mapulanguene   48.0\n",
       "4             6  32.083268 -24.489278      79   Bairro ii  Mapulanguene  207.0\n",
       "...         ...        ...        ...     ...         ...           ...    ...\n",
       "1183       1297  32.965009 -24.830638       5     Muazana        Motaze   48.0\n",
       "1184       1298  32.965009 -24.821655       5     Muazana        Motaze   56.0\n",
       "1185       1299  32.965009 -24.812671       5     Muazana        Motaze   15.0\n",
       "1186       1300  32.975029 -24.830638       5     Muazana        Motaze    1.0\n",
       "1187       1301  32.985049 -24.821655       5     Muazana        Motaze   24.0\n",
       "\n",
       "[1188 rows x 7 columns]"
      ]
     },
     "execution_count": 4,
     "metadata": {},
     "output_type": "execute_result"
    }
   ],
   "source": [
    "df_lookup"
   ]
  },
  {
   "cell_type": "code",
   "execution_count": 80,
   "id": "c47229b8-5f30-4762-a2c8-592bb21ab5a4",
   "metadata": {},
   "outputs": [
    {
     "data": {
      "text/plain": [
       "44529.0"
      ]
     },
     "execution_count": 80,
     "metadata": {},
     "output_type": "execute_result"
    }
   ],
   "source": [
    "np.sum(df_lookup[\"pop\"])"
   ]
  },
  {
   "cell_type": "code",
   "execution_count": 5,
   "id": "27f634a1-3063-46f8-8e4b-07d41b35c14d",
   "metadata": {
    "tags": []
   },
   "outputs": [],
   "source": [
    "df_itn = pd.read_csv(\"C:/Users/joshsu/Dropbox (IDM)/Malaria Team Folder/projects/mz_magude/inputs/csvs/interventions/grid_all_itn_events.csv\")"
   ]
  },
  {
   "cell_type": "code",
   "execution_count": 6,
   "id": "0cdf6ef6-4215-4e68-9d1b-3f44dbf222d1",
   "metadata": {
    "tags": []
   },
   "outputs": [],
   "source": [
    "df_itn = pd.merge(df_itn, df_lookup[[\"grid_cell\", \"pop\"]], on=\"grid_cell\", how=\"inner\")"
   ]
  },
  {
   "cell_type": "code",
   "execution_count": 7,
   "id": "979be25e-4f6f-4c2b-8721-2a20e4cbb459",
   "metadata": {
    "tags": []
   },
   "outputs": [
    {
     "data": {
      "text/plain": [
       "Index(['event', 'fulldate', 'cov_all', 'age_cov', 'min_season_cov',\n",
       "       'fast_fraction', 'grid_cell', 'discard_type_flag', 'killing_initial',\n",
       "       'killing_decay_constant', 'blocking_initial', 'blocking_decay_constant',\n",
       "       'max_season_cov_day', 'pop'],\n",
       "      dtype='object')"
      ]
     },
     "execution_count": 7,
     "metadata": {},
     "output_type": "execute_result"
    }
   ],
   "source": [
    "df_itn.columns"
   ]
  },
  {
   "cell_type": "code",
   "execution_count": 8,
   "id": "b3954e82-2264-4e16-8634-83301f470491",
   "metadata": {
    "tags": []
   },
   "outputs": [
    {
     "data": {
      "text/html": [
       "<div>\n",
       "<style scoped>\n",
       "    .dataframe tbody tr th:only-of-type {\n",
       "        vertical-align: middle;\n",
       "    }\n",
       "\n",
       "    .dataframe tbody tr th {\n",
       "        vertical-align: top;\n",
       "    }\n",
       "\n",
       "    .dataframe thead th {\n",
       "        text-align: right;\n",
       "    }\n",
       "</style>\n",
       "<table border=\"1\" class=\"dataframe\">\n",
       "  <thead>\n",
       "    <tr style=\"text-align: right;\">\n",
       "      <th></th>\n",
       "      <th>event</th>\n",
       "      <th>fulldate</th>\n",
       "      <th>cov_all</th>\n",
       "      <th>age_cov</th>\n",
       "      <th>min_season_cov</th>\n",
       "      <th>fast_fraction</th>\n",
       "      <th>grid_cell</th>\n",
       "      <th>discard_type_flag</th>\n",
       "      <th>killing_initial</th>\n",
       "      <th>killing_decay_constant</th>\n",
       "      <th>blocking_initial</th>\n",
       "      <th>blocking_decay_constant</th>\n",
       "      <th>max_season_cov_day</th>\n",
       "      <th>pop</th>\n",
       "    </tr>\n",
       "  </thead>\n",
       "  <tbody>\n",
       "    <tr>\n",
       "      <th>0</th>\n",
       "      <td>1</td>\n",
       "      <td>2014-02-01</td>\n",
       "      <td>0.40</td>\n",
       "      <td>0.9</td>\n",
       "      <td>0.58</td>\n",
       "      <td>0.6</td>\n",
       "      <td>2</td>\n",
       "      <td>0</td>\n",
       "      <td>0.70</td>\n",
       "      <td>781</td>\n",
       "      <td>0.60</td>\n",
       "      <td>2046</td>\n",
       "      <td>40</td>\n",
       "      <td>76.0</td>\n",
       "    </tr>\n",
       "    <tr>\n",
       "      <th>1</th>\n",
       "      <td>2</td>\n",
       "      <td>2015-05-01</td>\n",
       "      <td>0.50</td>\n",
       "      <td>0.9</td>\n",
       "      <td>0.58</td>\n",
       "      <td>0.0</td>\n",
       "      <td>2</td>\n",
       "      <td>1</td>\n",
       "      <td>0.39</td>\n",
       "      <td>781</td>\n",
       "      <td>0.48</td>\n",
       "      <td>2046</td>\n",
       "      <td>40</td>\n",
       "      <td>76.0</td>\n",
       "    </tr>\n",
       "    <tr>\n",
       "      <th>2</th>\n",
       "      <td>3</td>\n",
       "      <td>2015-09-01</td>\n",
       "      <td>0.60</td>\n",
       "      <td>0.9</td>\n",
       "      <td>0.58</td>\n",
       "      <td>0.0</td>\n",
       "      <td>2</td>\n",
       "      <td>1</td>\n",
       "      <td>0.34</td>\n",
       "      <td>781</td>\n",
       "      <td>0.45</td>\n",
       "      <td>2046</td>\n",
       "      <td>40</td>\n",
       "      <td>76.0</td>\n",
       "    </tr>\n",
       "    <tr>\n",
       "      <th>3</th>\n",
       "      <td>4</td>\n",
       "      <td>2017-12-01</td>\n",
       "      <td>0.75</td>\n",
       "      <td>0.9</td>\n",
       "      <td>0.58</td>\n",
       "      <td>0.0</td>\n",
       "      <td>2</td>\n",
       "      <td>1</td>\n",
       "      <td>0.70</td>\n",
       "      <td>781</td>\n",
       "      <td>0.60</td>\n",
       "      <td>2046</td>\n",
       "      <td>40</td>\n",
       "      <td>76.0</td>\n",
       "    </tr>\n",
       "    <tr>\n",
       "      <th>4</th>\n",
       "      <td>1</td>\n",
       "      <td>2014-02-01</td>\n",
       "      <td>0.40</td>\n",
       "      <td>0.9</td>\n",
       "      <td>0.58</td>\n",
       "      <td>0.6</td>\n",
       "      <td>3</td>\n",
       "      <td>0</td>\n",
       "      <td>0.70</td>\n",
       "      <td>781</td>\n",
       "      <td>0.60</td>\n",
       "      <td>2046</td>\n",
       "      <td>40</td>\n",
       "      <td>67.0</td>\n",
       "    </tr>\n",
       "    <tr>\n",
       "      <th>...</th>\n",
       "      <td>...</td>\n",
       "      <td>...</td>\n",
       "      <td>...</td>\n",
       "      <td>...</td>\n",
       "      <td>...</td>\n",
       "      <td>...</td>\n",
       "      <td>...</td>\n",
       "      <td>...</td>\n",
       "      <td>...</td>\n",
       "      <td>...</td>\n",
       "      <td>...</td>\n",
       "      <td>...</td>\n",
       "      <td>...</td>\n",
       "      <td>...</td>\n",
       "    </tr>\n",
       "    <tr>\n",
       "      <th>4191</th>\n",
       "      <td>4</td>\n",
       "      <td>2017-12-01</td>\n",
       "      <td>0.75</td>\n",
       "      <td>0.9</td>\n",
       "      <td>0.58</td>\n",
       "      <td>0.0</td>\n",
       "      <td>1299</td>\n",
       "      <td>1</td>\n",
       "      <td>0.70</td>\n",
       "      <td>781</td>\n",
       "      <td>0.60</td>\n",
       "      <td>2046</td>\n",
       "      <td>40</td>\n",
       "      <td>15.0</td>\n",
       "    </tr>\n",
       "    <tr>\n",
       "      <th>4192</th>\n",
       "      <td>1</td>\n",
       "      <td>2014-02-01</td>\n",
       "      <td>0.40</td>\n",
       "      <td>0.9</td>\n",
       "      <td>0.58</td>\n",
       "      <td>0.6</td>\n",
       "      <td>1301</td>\n",
       "      <td>0</td>\n",
       "      <td>0.70</td>\n",
       "      <td>781</td>\n",
       "      <td>0.60</td>\n",
       "      <td>2046</td>\n",
       "      <td>40</td>\n",
       "      <td>24.0</td>\n",
       "    </tr>\n",
       "    <tr>\n",
       "      <th>4193</th>\n",
       "      <td>2</td>\n",
       "      <td>2015-05-01</td>\n",
       "      <td>0.50</td>\n",
       "      <td>0.9</td>\n",
       "      <td>0.58</td>\n",
       "      <td>0.0</td>\n",
       "      <td>1301</td>\n",
       "      <td>1</td>\n",
       "      <td>0.39</td>\n",
       "      <td>781</td>\n",
       "      <td>0.48</td>\n",
       "      <td>2046</td>\n",
       "      <td>40</td>\n",
       "      <td>24.0</td>\n",
       "    </tr>\n",
       "    <tr>\n",
       "      <th>4194</th>\n",
       "      <td>3</td>\n",
       "      <td>2015-09-01</td>\n",
       "      <td>1.00</td>\n",
       "      <td>0.9</td>\n",
       "      <td>0.58</td>\n",
       "      <td>0.0</td>\n",
       "      <td>1301</td>\n",
       "      <td>1</td>\n",
       "      <td>0.34</td>\n",
       "      <td>781</td>\n",
       "      <td>0.45</td>\n",
       "      <td>2046</td>\n",
       "      <td>40</td>\n",
       "      <td>24.0</td>\n",
       "    </tr>\n",
       "    <tr>\n",
       "      <th>4195</th>\n",
       "      <td>4</td>\n",
       "      <td>2017-12-01</td>\n",
       "      <td>0.75</td>\n",
       "      <td>0.9</td>\n",
       "      <td>0.58</td>\n",
       "      <td>0.0</td>\n",
       "      <td>1301</td>\n",
       "      <td>1</td>\n",
       "      <td>0.70</td>\n",
       "      <td>781</td>\n",
       "      <td>0.60</td>\n",
       "      <td>2046</td>\n",
       "      <td>40</td>\n",
       "      <td>24.0</td>\n",
       "    </tr>\n",
       "  </tbody>\n",
       "</table>\n",
       "<p>4196 rows × 14 columns</p>\n",
       "</div>"
      ],
      "text/plain": [
       "      event    fulldate  cov_all  age_cov  min_season_cov  fast_fraction   \n",
       "0         1  2014-02-01     0.40      0.9            0.58            0.6  \\\n",
       "1         2  2015-05-01     0.50      0.9            0.58            0.0   \n",
       "2         3  2015-09-01     0.60      0.9            0.58            0.0   \n",
       "3         4  2017-12-01     0.75      0.9            0.58            0.0   \n",
       "4         1  2014-02-01     0.40      0.9            0.58            0.6   \n",
       "...     ...         ...      ...      ...             ...            ...   \n",
       "4191      4  2017-12-01     0.75      0.9            0.58            0.0   \n",
       "4192      1  2014-02-01     0.40      0.9            0.58            0.6   \n",
       "4193      2  2015-05-01     0.50      0.9            0.58            0.0   \n",
       "4194      3  2015-09-01     1.00      0.9            0.58            0.0   \n",
       "4195      4  2017-12-01     0.75      0.9            0.58            0.0   \n",
       "\n",
       "      grid_cell  discard_type_flag  killing_initial  killing_decay_constant   \n",
       "0             2                  0             0.70                     781  \\\n",
       "1             2                  1             0.39                     781   \n",
       "2             2                  1             0.34                     781   \n",
       "3             2                  1             0.70                     781   \n",
       "4             3                  0             0.70                     781   \n",
       "...         ...                ...              ...                     ...   \n",
       "4191       1299                  1             0.70                     781   \n",
       "4192       1301                  0             0.70                     781   \n",
       "4193       1301                  1             0.39                     781   \n",
       "4194       1301                  1             0.34                     781   \n",
       "4195       1301                  1             0.70                     781   \n",
       "\n",
       "      blocking_initial  blocking_decay_constant  max_season_cov_day   pop  \n",
       "0                 0.60                     2046                  40  76.0  \n",
       "1                 0.48                     2046                  40  76.0  \n",
       "2                 0.45                     2046                  40  76.0  \n",
       "3                 0.60                     2046                  40  76.0  \n",
       "4                 0.60                     2046                  40  67.0  \n",
       "...                ...                      ...                 ...   ...  \n",
       "4191              0.60                     2046                  40  15.0  \n",
       "4192              0.60                     2046                  40  24.0  \n",
       "4193              0.48                     2046                  40  24.0  \n",
       "4194              0.45                     2046                  40  24.0  \n",
       "4195              0.60                     2046                  40  24.0  \n",
       "\n",
       "[4196 rows x 14 columns]"
      ]
     },
     "execution_count": 8,
     "metadata": {},
     "output_type": "execute_result"
    }
   ],
   "source": [
    "df_itn"
   ]
  },
  {
   "cell_type": "code",
   "execution_count": 9,
   "id": "fca918aa-852b-44d5-b517-56c4ccfb53bd",
   "metadata": {
    "tags": []
   },
   "outputs": [
    {
     "name": "stdout",
     "output_type": "stream",
     "text": [
      "['2014-02-01']\n",
      "['2015-05-01']\n",
      "['2015-09-01']\n",
      "['2017-12-01']\n"
     ]
    }
   ],
   "source": [
    "for i, sdf in df_itn.groupby(\"event\"):\n",
    "    print(sdf[\"fulldate\"].unique())"
   ]
  },
  {
   "cell_type": "code",
   "execution_count": 10,
   "id": "f3103568-f9b2-4ac1-af48-5338c3afcf6f",
   "metadata": {
    "tags": []
   },
   "outputs": [],
   "source": [
    "def weighted_average(group, col_name, weight_column=\"pop\"):\n",
    "    return (group[col_name] * group[weight_column]).sum() / group[weight_column].sum()\n"
   ]
  },
  {
   "cell_type": "code",
   "execution_count": 11,
   "id": "ff69f1a8-8522-452e-80d2-747fa39a6980",
   "metadata": {
    "tags": []
   },
   "outputs": [],
   "source": [
    "from functools import partial"
   ]
  },
  {
   "cell_type": "code",
   "execution_count": 12,
   "id": "815f9bc2-4c93-4e75-85f9-d5f14d2228e8",
   "metadata": {
    "tags": []
   },
   "outputs": [
    {
     "data": {
      "text/plain": [
       "event\n",
       "1    0.40000\n",
       "2    0.50000\n",
       "3    0.71559\n",
       "4    0.75000\n",
       "dtype: float64"
      ]
     },
     "execution_count": 12,
     "metadata": {},
     "output_type": "execute_result"
    }
   ],
   "source": [
    "df_itn.groupby(\"event\").apply(partial(weighted_average, col_name=\"cov_all\"))"
   ]
  },
  {
   "cell_type": "code",
   "execution_count": 13,
   "id": "328c5979-7762-44c9-a7c5-2c43ce80e988",
   "metadata": {
    "tags": []
   },
   "outputs": [
    {
     "data": {
      "text/plain": [
       "event\n",
       "1    0.9\n",
       "2    0.9\n",
       "3    0.9\n",
       "4    0.9\n",
       "dtype: float64"
      ]
     },
     "execution_count": 13,
     "metadata": {},
     "output_type": "execute_result"
    }
   ],
   "source": [
    "df_itn.groupby(\"event\").apply(partial(weighted_average, col_name=\"age_cov\"))"
   ]
  },
  {
   "cell_type": "code",
   "execution_count": 14,
   "id": "535544e2-6a82-49a5-9d47-56b7f3edac5d",
   "metadata": {
    "tags": []
   },
   "outputs": [
    {
     "data": {
      "text/plain": [
       "event\n",
       "1    0.0\n",
       "2    1.0\n",
       "3    1.0\n",
       "4    1.0\n",
       "dtype: float64"
      ]
     },
     "execution_count": 14,
     "metadata": {},
     "output_type": "execute_result"
    }
   ],
   "source": [
    "df_itn.groupby(\"event\").apply(partial(weighted_average, col_name=\"discard_type_flag\"))"
   ]
  },
  {
   "cell_type": "code",
   "execution_count": 15,
   "id": "c9152aee-391f-4de4-ae17-aaa54fe4840e",
   "metadata": {
    "tags": []
   },
   "outputs": [
    {
     "data": {
      "text/plain": [
       "event\n",
       "1    0.6\n",
       "2    0.0\n",
       "3    0.0\n",
       "4    0.0\n",
       "dtype: float64"
      ]
     },
     "execution_count": 15,
     "metadata": {},
     "output_type": "execute_result"
    }
   ],
   "source": [
    "df_itn.groupby(\"event\").apply(partial(weighted_average, col_name=\"fast_fraction\"))"
   ]
  },
  {
   "cell_type": "code",
   "execution_count": 16,
   "id": "208b0409-7b25-4d98-9ed4-2124e816d718",
   "metadata": {
    "tags": []
   },
   "outputs": [
    {
     "data": {
      "text/plain": [
       "event\n",
       "1    0.58\n",
       "2    0.58\n",
       "3    0.58\n",
       "4    0.58\n",
       "dtype: float64"
      ]
     },
     "execution_count": 16,
     "metadata": {},
     "output_type": "execute_result"
    }
   ],
   "source": [
    "df_itn.groupby(\"event\").apply(partial(weighted_average, col_name=\"min_season_cov\"))"
   ]
  },
  {
   "cell_type": "code",
   "execution_count": 17,
   "id": "969e5991-588a-47d1-94a6-1c7617326e04",
   "metadata": {
    "tags": []
   },
   "outputs": [
    {
     "data": {
      "text/plain": [
       "event\n",
       "1    0.70\n",
       "2    0.39\n",
       "3    0.34\n",
       "4    0.70\n",
       "dtype: float64"
      ]
     },
     "execution_count": 17,
     "metadata": {},
     "output_type": "execute_result"
    }
   ],
   "source": [
    "df_itn.groupby(\"event\").apply(partial(weighted_average, col_name=\"killing_initial\"))"
   ]
  },
  {
   "cell_type": "code",
   "execution_count": 18,
   "id": "f157cb06-6c70-4959-9439-1c6e0e816274",
   "metadata": {
    "tags": []
   },
   "outputs": [
    {
     "data": {
      "text/plain": [
       "event\n",
       "1    0.60\n",
       "2    0.48\n",
       "3    0.45\n",
       "4    0.60\n",
       "dtype: float64"
      ]
     },
     "execution_count": 18,
     "metadata": {},
     "output_type": "execute_result"
    }
   ],
   "source": [
    "df_itn.groupby(\"event\").apply(partial(weighted_average, col_name=\"blocking_initial\"))"
   ]
  },
  {
   "cell_type": "code",
   "execution_count": 19,
   "id": "094642db-103c-4ec9-8480-5a5ff53674df",
   "metadata": {},
   "outputs": [],
   "source": [
    "df_hs = pd.read_csv(\"C:/Users/joshsu/Dropbox (IDM)/Malaria Team Folder/projects/mz_magude/inputs/csvs/interventions/grid_all_healthseek_events.csv\")"
   ]
  },
  {
   "cell_type": "code",
   "execution_count": 20,
   "id": "9305ac23-54cd-4f31-bf94-318526f20cee",
   "metadata": {
    "tags": []
   },
   "outputs": [],
   "source": [
    "df_hs = pd.merge(df_hs, df_lookup[[\"grid_cell\", \"pop\"]], on=\"grid_cell\", how=\"inner\")"
   ]
  },
  {
   "cell_type": "code",
   "execution_count": 21,
   "id": "3e4135ff-d295-4426-968e-dc5999576a46",
   "metadata": {
    "tags": []
   },
   "outputs": [
    {
     "data": {
      "text/html": [
       "<div>\n",
       "<style scoped>\n",
       "    .dataframe tbody tr th:only-of-type {\n",
       "        vertical-align: middle;\n",
       "    }\n",
       "\n",
       "    .dataframe tbody tr th {\n",
       "        vertical-align: top;\n",
       "    }\n",
       "\n",
       "    .dataframe thead th {\n",
       "        text-align: right;\n",
       "    }\n",
       "</style>\n",
       "<table border=\"1\" class=\"dataframe\">\n",
       "  <thead>\n",
       "    <tr style=\"text-align: right;\">\n",
       "      <th></th>\n",
       "      <th>grid_cell</th>\n",
       "      <th>event</th>\n",
       "      <th>fulldate</th>\n",
       "      <th>duration</th>\n",
       "      <th>cov_newclin_youth</th>\n",
       "      <th>cov_newclin_adult</th>\n",
       "      <th>cov_severe_youth</th>\n",
       "      <th>cov_severe_adult</th>\n",
       "      <th>pop</th>\n",
       "    </tr>\n",
       "  </thead>\n",
       "  <tbody>\n",
       "    <tr>\n",
       "      <th>0</th>\n",
       "      <td>2</td>\n",
       "      <td>1</td>\n",
       "      <td>2010-01-01</td>\n",
       "      <td>18250</td>\n",
       "      <td>0.892377</td>\n",
       "      <td>0.594918</td>\n",
       "      <td>0.892377</td>\n",
       "      <td>0.892377</td>\n",
       "      <td>76.0</td>\n",
       "    </tr>\n",
       "    <tr>\n",
       "      <th>1</th>\n",
       "      <td>3</td>\n",
       "      <td>1</td>\n",
       "      <td>2010-01-01</td>\n",
       "      <td>18250</td>\n",
       "      <td>0.892377</td>\n",
       "      <td>0.594918</td>\n",
       "      <td>0.892377</td>\n",
       "      <td>0.892377</td>\n",
       "      <td>67.0</td>\n",
       "    </tr>\n",
       "    <tr>\n",
       "      <th>2</th>\n",
       "      <td>4</td>\n",
       "      <td>1</td>\n",
       "      <td>2010-01-01</td>\n",
       "      <td>18250</td>\n",
       "      <td>0.887296</td>\n",
       "      <td>0.591530</td>\n",
       "      <td>0.887296</td>\n",
       "      <td>0.887296</td>\n",
       "      <td>17.0</td>\n",
       "    </tr>\n",
       "    <tr>\n",
       "      <th>3</th>\n",
       "      <td>5</td>\n",
       "      <td>1</td>\n",
       "      <td>2010-01-01</td>\n",
       "      <td>18250</td>\n",
       "      <td>0.892472</td>\n",
       "      <td>0.594982</td>\n",
       "      <td>0.892472</td>\n",
       "      <td>0.892472</td>\n",
       "      <td>48.0</td>\n",
       "    </tr>\n",
       "    <tr>\n",
       "      <th>4</th>\n",
       "      <td>6</td>\n",
       "      <td>1</td>\n",
       "      <td>2010-01-01</td>\n",
       "      <td>18250</td>\n",
       "      <td>0.894918</td>\n",
       "      <td>0.596612</td>\n",
       "      <td>0.894918</td>\n",
       "      <td>0.894918</td>\n",
       "      <td>207.0</td>\n",
       "    </tr>\n",
       "    <tr>\n",
       "      <th>...</th>\n",
       "      <td>...</td>\n",
       "      <td>...</td>\n",
       "      <td>...</td>\n",
       "      <td>...</td>\n",
       "      <td>...</td>\n",
       "      <td>...</td>\n",
       "      <td>...</td>\n",
       "      <td>...</td>\n",
       "      <td>...</td>\n",
       "    </tr>\n",
       "    <tr>\n",
       "      <th>1183</th>\n",
       "      <td>1297</td>\n",
       "      <td>1</td>\n",
       "      <td>2010-01-01</td>\n",
       "      <td>18250</td>\n",
       "      <td>0.747166</td>\n",
       "      <td>0.498110</td>\n",
       "      <td>0.800000</td>\n",
       "      <td>0.800000</td>\n",
       "      <td>48.0</td>\n",
       "    </tr>\n",
       "    <tr>\n",
       "      <th>1184</th>\n",
       "      <td>1298</td>\n",
       "      <td>1</td>\n",
       "      <td>2010-01-01</td>\n",
       "      <td>18250</td>\n",
       "      <td>0.736689</td>\n",
       "      <td>0.491126</td>\n",
       "      <td>0.800000</td>\n",
       "      <td>0.800000</td>\n",
       "      <td>56.0</td>\n",
       "    </tr>\n",
       "    <tr>\n",
       "      <th>1185</th>\n",
       "      <td>1299</td>\n",
       "      <td>1</td>\n",
       "      <td>2010-01-01</td>\n",
       "      <td>18250</td>\n",
       "      <td>0.747163</td>\n",
       "      <td>0.498108</td>\n",
       "      <td>0.800000</td>\n",
       "      <td>0.800000</td>\n",
       "      <td>15.0</td>\n",
       "    </tr>\n",
       "    <tr>\n",
       "      <th>1186</th>\n",
       "      <td>1300</td>\n",
       "      <td>1</td>\n",
       "      <td>2010-01-01</td>\n",
       "      <td>18250</td>\n",
       "      <td>0.164979</td>\n",
       "      <td>0.109986</td>\n",
       "      <td>0.800000</td>\n",
       "      <td>0.800000</td>\n",
       "      <td>1.0</td>\n",
       "    </tr>\n",
       "    <tr>\n",
       "      <th>1187</th>\n",
       "      <td>1301</td>\n",
       "      <td>1</td>\n",
       "      <td>2010-01-01</td>\n",
       "      <td>18250</td>\n",
       "      <td>0.148750</td>\n",
       "      <td>0.099167</td>\n",
       "      <td>0.800000</td>\n",
       "      <td>0.800000</td>\n",
       "      <td>24.0</td>\n",
       "    </tr>\n",
       "  </tbody>\n",
       "</table>\n",
       "<p>1188 rows × 9 columns</p>\n",
       "</div>"
      ],
      "text/plain": [
       "      grid_cell  event    fulldate  duration  cov_newclin_youth   \n",
       "0             2      1  2010-01-01     18250           0.892377  \\\n",
       "1             3      1  2010-01-01     18250           0.892377   \n",
       "2             4      1  2010-01-01     18250           0.887296   \n",
       "3             5      1  2010-01-01     18250           0.892472   \n",
       "4             6      1  2010-01-01     18250           0.894918   \n",
       "...         ...    ...         ...       ...                ...   \n",
       "1183       1297      1  2010-01-01     18250           0.747166   \n",
       "1184       1298      1  2010-01-01     18250           0.736689   \n",
       "1185       1299      1  2010-01-01     18250           0.747163   \n",
       "1186       1300      1  2010-01-01     18250           0.164979   \n",
       "1187       1301      1  2010-01-01     18250           0.148750   \n",
       "\n",
       "      cov_newclin_adult  cov_severe_youth  cov_severe_adult    pop  \n",
       "0              0.594918          0.892377          0.892377   76.0  \n",
       "1              0.594918          0.892377          0.892377   67.0  \n",
       "2              0.591530          0.887296          0.887296   17.0  \n",
       "3              0.594982          0.892472          0.892472   48.0  \n",
       "4              0.596612          0.894918          0.894918  207.0  \n",
       "...                 ...               ...               ...    ...  \n",
       "1183           0.498110          0.800000          0.800000   48.0  \n",
       "1184           0.491126          0.800000          0.800000   56.0  \n",
       "1185           0.498108          0.800000          0.800000   15.0  \n",
       "1186           0.109986          0.800000          0.800000    1.0  \n",
       "1187           0.099167          0.800000          0.800000   24.0  \n",
       "\n",
       "[1188 rows x 9 columns]"
      ]
     },
     "execution_count": 21,
     "metadata": {},
     "output_type": "execute_result"
    }
   ],
   "source": [
    "df_hs"
   ]
  },
  {
   "cell_type": "code",
   "execution_count": 22,
   "id": "fc323311-70eb-4512-82c0-a1977653c75c",
   "metadata": {
    "tags": []
   },
   "outputs": [
    {
     "data": {
      "text/plain": [
       "event\n",
       "1    0.766945\n",
       "dtype: float64"
      ]
     },
     "execution_count": 22,
     "metadata": {},
     "output_type": "execute_result"
    }
   ],
   "source": [
    "df_hs.groupby(\"event\").apply(partial(weighted_average, col_name=\"cov_newclin_youth\"))"
   ]
  },
  {
   "cell_type": "code",
   "execution_count": 23,
   "id": "8ebc8632-dd67-4b2a-ba85-142aa50bac91",
   "metadata": {
    "tags": []
   },
   "outputs": [
    {
     "data": {
      "text/plain": [
       "event\n",
       "1    0.511296\n",
       "dtype: float64"
      ]
     },
     "execution_count": 23,
     "metadata": {},
     "output_type": "execute_result"
    }
   ],
   "source": [
    "df_hs.groupby(\"event\").apply(partial(weighted_average, col_name=\"cov_newclin_adult\"))"
   ]
  },
  {
   "cell_type": "code",
   "execution_count": 24,
   "id": "34444041-351b-42ad-84a3-3e4d2fc4c804",
   "metadata": {
    "tags": []
   },
   "outputs": [
    {
     "data": {
      "text/plain": [
       "event\n",
       "1    0.834666\n",
       "dtype: float64"
      ]
     },
     "execution_count": 24,
     "metadata": {},
     "output_type": "execute_result"
    }
   ],
   "source": [
    "df_hs.groupby(\"event\").apply(partial(weighted_average, col_name=\"cov_severe_youth\"))"
   ]
  },
  {
   "cell_type": "code",
   "execution_count": 25,
   "id": "098ba870-c90c-42c9-b092-69b00976f711",
   "metadata": {
    "tags": []
   },
   "outputs": [
    {
     "data": {
      "text/plain": [
       "0.7669447140983027"
      ]
     },
     "execution_count": 25,
     "metadata": {},
     "output_type": "execute_result"
    }
   ],
   "source": [
    "np.sum(df_hs[\"pop\"]*df_hs[\"cov_newclin_youth\"])/np.sum(df_hs[\"pop\"])"
   ]
  },
  {
   "cell_type": "code",
   "execution_count": 26,
   "id": "8499dbe3-5bc7-4d38-8cbf-e3eb694ae90e",
   "metadata": {
    "tags": []
   },
   "outputs": [],
   "source": [
    "df_irs = pd.read_csv(\"C:/Users/joshsu/Dropbox (IDM)/Malaria Team Folder/projects/mz_magude/inputs/csvs/interventions/grid_all_irs_events.csv\")"
   ]
  },
  {
   "cell_type": "code",
   "execution_count": 27,
   "id": "5f3cc811-8ebe-440b-bb23-4d0ae31649f8",
   "metadata": {
    "tags": []
   },
   "outputs": [],
   "source": [
    "df_irs = pd.merge(df_irs, df_lookup[[\"grid_cell\", \"pop\"]], on=\"grid_cell\", how=\"inner\")"
   ]
  },
  {
   "cell_type": "code",
   "execution_count": 28,
   "id": "877438a9-d814-4e27-b764-3512eca59b78",
   "metadata": {
    "tags": []
   },
   "outputs": [
    {
     "data": {
      "text/plain": [
       "fulldate\n",
       "2014-09-01    0.550859\n",
       "2015-09-01    0.817352\n",
       "2016-09-01    0.692031\n",
       "2017-09-01    0.806231\n",
       "2017-10-01    0.730000\n",
       "2017-11-01    0.330000\n",
       "2017-12-01    0.860000\n",
       "dtype: float64"
      ]
     },
     "execution_count": 28,
     "metadata": {},
     "output_type": "execute_result"
    }
   ],
   "source": [
    "df_irs.groupby(\"fulldate\").apply(partial(weighted_average, col_name=\"cov_all\"))"
   ]
  },
  {
   "cell_type": "code",
   "execution_count": 29,
   "id": "c5693ea5-3416-4672-88cf-5b04e8da4b31",
   "metadata": {
    "tags": []
   },
   "outputs": [
    {
     "data": {
      "text/plain": [
       "fulldate\n",
       "2014-09-01    0.6\n",
       "2015-09-01    0.9\n",
       "2016-09-01    0.9\n",
       "2017-09-01    0.9\n",
       "2017-10-01    0.9\n",
       "2017-11-01    0.9\n",
       "2017-12-01    0.9\n",
       "dtype: float64"
      ]
     },
     "execution_count": 29,
     "metadata": {},
     "output_type": "execute_result"
    }
   ],
   "source": [
    "df_irs.groupby(\"fulldate\").apply(partial(weighted_average, col_name=\"killing\"))"
   ]
  },
  {
   "cell_type": "code",
   "execution_count": 30,
   "id": "69f5d7f4-4585-425b-a691-f0997f157c4c",
   "metadata": {
    "tags": []
   },
   "outputs": [
    {
     "data": {
      "text/plain": [
       "fulldate\n",
       "2014-09-01      1.0\n",
       "2015-09-01    210.0\n",
       "2016-09-01    210.0\n",
       "2017-09-01    210.0\n",
       "2017-10-01    210.0\n",
       "2017-11-01    210.0\n",
       "2017-12-01    210.0\n",
       "dtype: float64"
      ]
     },
     "execution_count": 30,
     "metadata": {},
     "output_type": "execute_result"
    }
   ],
   "source": [
    "df_irs.groupby(\"fulldate\").apply(partial(weighted_average, col_name=\"box_duration\"))"
   ]
  },
  {
   "cell_type": "code",
   "execution_count": 31,
   "id": "606ccf9c-c416-40a9-8702-308e1cfd015d",
   "metadata": {
    "tags": []
   },
   "outputs": [
    {
     "data": {
      "text/plain": [
       "fulldate\n",
       "2014-09-01    90.0\n",
       "2015-09-01    30.0\n",
       "2016-09-01    30.0\n",
       "2017-09-01    30.0\n",
       "2017-10-01    30.0\n",
       "2017-11-01    30.0\n",
       "2017-12-01    30.0\n",
       "dtype: float64"
      ]
     },
     "execution_count": 31,
     "metadata": {},
     "output_type": "execute_result"
    }
   ],
   "source": [
    "df_irs.groupby(\"fulldate\").apply(partial(weighted_average, col_name=\"exp_duration\"))"
   ]
  },
  {
   "cell_type": "code",
   "execution_count": 32,
   "id": "b5fc3bf8-4adb-4518-aa9d-039cd46f20a1",
   "metadata": {
    "tags": []
   },
   "outputs": [],
   "source": [
    "df_mda = pd.read_csv(\"C:/Users/joshsu/Dropbox (IDM)/Malaria Team Folder/projects/mz_magude/inputs/csvs/interventions/grid_all_mda_events.csv\")"
   ]
  },
  {
   "cell_type": "code",
   "execution_count": 33,
   "id": "44a5181d-1a53-4056-86d0-93ba35cc16c3",
   "metadata": {
    "tags": []
   },
   "outputs": [],
   "source": [
    "df_mda = pd.merge(df_mda, df_lookup[[\"grid_cell\", \"pop\"]], on=\"grid_cell\", how=\"inner\")"
   ]
  },
  {
   "cell_type": "code",
   "execution_count": 34,
   "id": "4c5e3763-d88d-4e36-8779-8c113f2632b8",
   "metadata": {
    "tags": []
   },
   "outputs": [
    {
     "name": "stdout",
     "output_type": "stream",
     "text": [
      "['2015-11-19' '2015-11-18' '2015-11-20' '2015-11-27' '2015-11-22'\n",
      " '2015-11-26' '2015-11-25' '2015-11-21' '2015-11-12' '2015-11-11'\n",
      " '2015-11-24' '2015-11-15' '2015-11-09' '2015-11-14' '2015-11-13'\n",
      " '2015-11-10' '2015-11-23' '2015-11-17' '2015-11-16']\n",
      "['2016-01-27' '2016-01-28' '2016-01-26' '2016-01-31' '2016-02-04'\n",
      " '2016-01-29' '2016-02-02' '2016-01-30' '2016-01-20' '2016-01-21'\n",
      " '2016-01-23' '2016-01-14' '2016-01-22' '2016-01-19' '2016-02-01'\n",
      " '2016-01-18' '2016-01-25']\n",
      "['2016-12-08' '2016-12-09' '2016-12-07' '2016-12-10' '2016-12-06'\n",
      " '2016-12-15' '2016-12-12' '2016-12-16' '2016-12-11' '2016-12-14'\n",
      " '2016-12-20' '2016-12-17' '2016-12-05' '2016-12-02' '2016-12-03'\n",
      " '2016-12-13' '2016-12-19']\n",
      "['2017-01-27' '2017-01-28' '2017-01-30' '2017-02-08' '2017-01-25'\n",
      " '2017-02-01' '2017-02-04' '2017-02-09' '2017-02-07' '2017-02-06'\n",
      " '2017-02-02' '2017-01-26' '2017-01-31' '2017-01-24' '2017-01-21'\n",
      " '2017-01-20' '2017-01-23' '2017-01-17' '2017-01-19' '2017-01-18']\n"
     ]
    }
   ],
   "source": [
    "for i, sdf in df_mda.groupby(\"event\"):\n",
    "    print(sdf[\"fulldate\"].unique())"
   ]
  },
  {
   "cell_type": "code",
   "execution_count": 35,
   "id": "affe3e37-09c9-494e-a8f8-9d8c74ab19f2",
   "metadata": {
    "tags": []
   },
   "outputs": [
    {
     "data": {
      "text/plain": [
       "0       2015-11-19\n",
       "1       2016-01-27\n",
       "2       2016-12-08\n",
       "3       2017-01-27\n",
       "4       2015-11-19\n",
       "           ...    \n",
       "4739    2017-01-19\n",
       "4740    2015-11-16\n",
       "4741    2016-01-26\n",
       "4742    2016-12-07\n",
       "4743    2017-01-19\n",
       "Name: fulldate, Length: 4744, dtype: object"
      ]
     },
     "execution_count": 35,
     "metadata": {},
     "output_type": "execute_result"
    }
   ],
   "source": [
    "df_mda[\"fulldate\"]"
   ]
  },
  {
   "cell_type": "code",
   "execution_count": 36,
   "id": "bfedbcc2-9732-416a-9c15-9f89682400d4",
   "metadata": {
    "tags": []
   },
   "outputs": [],
   "source": [
    "from datetime import datetime\n",
    "\n",
    "def date_to_ordinal(date_str):\n",
    "    # Parse the input date string into a datetime object\n",
    "    date_obj = datetime.strptime(date_str, '%Y-%m-%d')\n",
    "    \n",
    "    # Get the ordinal date (day of the year) from the datetime object\n",
    "    ordinal_date = date_obj.timetuple().tm_yday\n",
    "    \n",
    "    return ordinal_date\n",
    "\n",
    "\n",
    "def ordinal_to_date(ordinal_date, year):\n",
    "    # Create a datetime object for the given year and the ordinal date\n",
    "    date_obj = datetime.strptime(f'{year}-{ordinal_date}', '%Y-%j')\n",
    "    \n",
    "    # Extract the date in \"yyyy-mm-dd\" format from the datetime object\n",
    "    date_str = date_obj.strftime('%Y-%m-%d')\n",
    "    \n",
    "    return date_str\n"
   ]
  },
  {
   "cell_type": "code",
   "execution_count": 37,
   "id": "f59e0ee0-b543-4d23-ba4e-fd19db1bd364",
   "metadata": {
    "tags": []
   },
   "outputs": [],
   "source": [
    "df_mda[\"date_ordinal\"] = df_mda[\"fulldate\"].apply(date_to_ordinal)"
   ]
  },
  {
   "cell_type": "code",
   "execution_count": 38,
   "id": "1b3c1f99-b3f6-448c-a5c8-9b45c6b35471",
   "metadata": {
    "tags": []
   },
   "outputs": [
    {
     "data": {
      "text/plain": [
       "event\n",
       "1    320.0\n",
       "2     24.0\n",
       "3    343.0\n",
       "4     24.0\n",
       "dtype: float64"
      ]
     },
     "execution_count": 38,
     "metadata": {},
     "output_type": "execute_result"
    }
   ],
   "source": [
    "df_mda.groupby(\"event\").apply(partial(weighted_average, col_name=\"date_ordinal\")).round()"
   ]
  },
  {
   "cell_type": "code",
   "execution_count": 39,
   "id": "ca19ed43-0fbe-4b3d-b4ed-26127a544e4d",
   "metadata": {
    "tags": []
   },
   "outputs": [
    {
     "data": {
      "text/plain": [
       "'2010-01-21'"
      ]
     },
     "execution_count": 39,
     "metadata": {},
     "output_type": "execute_result"
    }
   ],
   "source": [
    "ordinal_to_date(21,2010)"
   ]
  },
  {
   "cell_type": "code",
   "execution_count": 40,
   "id": "cfa637f9-2540-4aff-8c0d-2bcd724b71e0",
   "metadata": {
    "tags": []
   },
   "outputs": [
    {
     "data": {
      "text/plain": [
       "'2010-01-22'"
      ]
     },
     "execution_count": 40,
     "metadata": {},
     "output_type": "execute_result"
    }
   ],
   "source": [
    "ordinal_to_date(22,2010)"
   ]
  },
  {
   "cell_type": "code",
   "execution_count": 41,
   "id": "7b67bdb4-0678-4740-81e4-02982a628eaa",
   "metadata": {
    "tags": []
   },
   "outputs": [
    {
     "data": {
      "text/plain": [
       "'2010-11-11'"
      ]
     },
     "execution_count": 41,
     "metadata": {},
     "output_type": "execute_result"
    }
   ],
   "source": [
    "ordinal_to_date(315,2010)"
   ]
  },
  {
   "cell_type": "code",
   "execution_count": 42,
   "id": "c055ea81-4738-4472-ad84-c9954295e003",
   "metadata": {
    "tags": []
   },
   "outputs": [
    {
     "data": {
      "text/plain": [
       "'2010-12-11'"
      ]
     },
     "execution_count": 42,
     "metadata": {},
     "output_type": "execute_result"
    }
   ],
   "source": [
    "ordinal_to_date(345,2010)"
   ]
  },
  {
   "cell_type": "code",
   "execution_count": 43,
   "id": "8e855d96-cc33-4529-a15d-14876066c10d",
   "metadata": {
    "tags": []
   },
   "outputs": [
    {
     "name": "stdout",
     "output_type": "stream",
     "text": [
      "['2015-11-19' '2015-11-18' '2015-11-20' '2015-11-27' '2015-11-22'\n",
      " '2015-11-26' '2015-11-25' '2015-11-21' '2015-11-12' '2015-11-11'\n",
      " '2015-11-24' '2015-11-15' '2015-11-09' '2015-11-14' '2015-11-13'\n",
      " '2015-11-10' '2015-11-23' '2015-11-17' '2015-11-16']\n",
      "['2016-01-27' '2016-01-28' '2016-01-26' '2016-01-31' '2016-02-04'\n",
      " '2016-01-29' '2016-02-02' '2016-01-30' '2016-01-20' '2016-01-21'\n",
      " '2016-01-23' '2016-01-14' '2016-01-22' '2016-01-19' '2016-02-01'\n",
      " '2016-01-18' '2016-01-25']\n",
      "['2016-12-08' '2016-12-09' '2016-12-07' '2016-12-10' '2016-12-06'\n",
      " '2016-12-15' '2016-12-12' '2016-12-16' '2016-12-11' '2016-12-14'\n",
      " '2016-12-20' '2016-12-17' '2016-12-05' '2016-12-02' '2016-12-03'\n",
      " '2016-12-13' '2016-12-19']\n",
      "['2017-01-27' '2017-01-28' '2017-01-30' '2017-02-08' '2017-01-25'\n",
      " '2017-02-01' '2017-02-04' '2017-02-09' '2017-02-07' '2017-02-06'\n",
      " '2017-02-02' '2017-01-26' '2017-01-31' '2017-01-24' '2017-01-21'\n",
      " '2017-01-20' '2017-01-23' '2017-01-17' '2017-01-19' '2017-01-18']\n"
     ]
    }
   ],
   "source": [
    "for i, sdf in df_mda.groupby(\"event\"):\n",
    "    print(sdf[\"fulldate\"].unique())"
   ]
  },
  {
   "cell_type": "code",
   "execution_count": 44,
   "id": "698ac4e1-1797-46c2-8495-d653724ab5e1",
   "metadata": {
    "tags": []
   },
   "outputs": [
    {
     "data": {
      "text/plain": [
       "event\n",
       "1    0.433804\n",
       "2    0.282581\n",
       "3    0.398330\n",
       "4    0.396379\n",
       "dtype: float64"
      ]
     },
     "execution_count": 44,
     "metadata": {},
     "output_type": "execute_result"
    }
   ],
   "source": [
    "df_mda.groupby(\"event\").apply(partial(weighted_average, col_name=\"cov_all\"))"
   ]
  },
  {
   "cell_type": "code",
   "execution_count": 45,
   "id": "bb1c7559-f68f-460f-adb3-3e4c526bcb12",
   "metadata": {
    "tags": []
   },
   "outputs": [],
   "source": [
    "df_rcd = pd.read_csv(\"C:/Users/joshsu/Dropbox (IDM)/Malaria Team Folder/projects/mz_magude/2021_model/inputs/grid_all_react_events_condensed.csv\")"
   ]
  },
  {
   "cell_type": "code",
   "execution_count": 46,
   "id": "ecc61148-8bee-4894-b9fa-df567c4ecf3d",
   "metadata": {
    "tags": []
   },
   "outputs": [],
   "source": [
    "df_rcd = pd.merge(df_rcd, df_lookup[[\"grid_cell\", \"pop\"]], on=\"grid_cell\", how=\"inner\")"
   ]
  },
  {
   "cell_type": "code",
   "execution_count": 47,
   "id": "c837fb9e-f31e-427b-85de-3ded975e7d65",
   "metadata": {
    "tags": []
   },
   "outputs": [
    {
     "data": {
      "text/html": [
       "<div>\n",
       "<style scoped>\n",
       "    .dataframe tbody tr th:only-of-type {\n",
       "        vertical-align: middle;\n",
       "    }\n",
       "\n",
       "    .dataframe tbody tr th {\n",
       "        vertical-align: top;\n",
       "    }\n",
       "\n",
       "    .dataframe thead th {\n",
       "        text-align: right;\n",
       "    }\n",
       "</style>\n",
       "<table border=\"1\" class=\"dataframe\">\n",
       "  <thead>\n",
       "    <tr style=\"text-align: right;\">\n",
       "      <th></th>\n",
       "      <th>Unnamed: 0</th>\n",
       "      <th>index</th>\n",
       "      <th>grid_cell</th>\n",
       "      <th>event</th>\n",
       "      <th>fulldate</th>\n",
       "      <th>trigger_coverage</th>\n",
       "      <th>coverage</th>\n",
       "      <th>interval</th>\n",
       "      <th>pop</th>\n",
       "    </tr>\n",
       "  </thead>\n",
       "  <tbody>\n",
       "    <tr>\n",
       "      <th>0</th>\n",
       "      <td>0</td>\n",
       "      <td>6</td>\n",
       "      <td>2</td>\n",
       "      <td>1</td>\n",
       "      <td>2017-06-01</td>\n",
       "      <td>0.500000</td>\n",
       "      <td>0.067509</td>\n",
       "      <td>-1</td>\n",
       "      <td>76.0</td>\n",
       "    </tr>\n",
       "    <tr>\n",
       "      <th>1</th>\n",
       "      <td>1</td>\n",
       "      <td>13</td>\n",
       "      <td>3</td>\n",
       "      <td>1</td>\n",
       "      <td>2017-06-01</td>\n",
       "      <td>0.500000</td>\n",
       "      <td>0.076577</td>\n",
       "      <td>-1</td>\n",
       "      <td>67.0</td>\n",
       "    </tr>\n",
       "    <tr>\n",
       "      <th>2</th>\n",
       "      <td>2</td>\n",
       "      <td>20</td>\n",
       "      <td>4</td>\n",
       "      <td>1</td>\n",
       "      <td>2017-06-01</td>\n",
       "      <td>0.500000</td>\n",
       "      <td>0.301805</td>\n",
       "      <td>-1</td>\n",
       "      <td>17.0</td>\n",
       "    </tr>\n",
       "    <tr>\n",
       "      <th>3</th>\n",
       "      <td>3</td>\n",
       "      <td>27</td>\n",
       "      <td>5</td>\n",
       "      <td>1</td>\n",
       "      <td>2017-06-01</td>\n",
       "      <td>0.500000</td>\n",
       "      <td>0.106889</td>\n",
       "      <td>-1</td>\n",
       "      <td>48.0</td>\n",
       "    </tr>\n",
       "    <tr>\n",
       "      <th>4</th>\n",
       "      <td>4</td>\n",
       "      <td>34</td>\n",
       "      <td>6</td>\n",
       "      <td>1</td>\n",
       "      <td>2017-06-01</td>\n",
       "      <td>0.500000</td>\n",
       "      <td>0.024786</td>\n",
       "      <td>-1</td>\n",
       "      <td>207.0</td>\n",
       "    </tr>\n",
       "    <tr>\n",
       "      <th>...</th>\n",
       "      <td>...</td>\n",
       "      <td>...</td>\n",
       "      <td>...</td>\n",
       "      <td>...</td>\n",
       "      <td>...</td>\n",
       "      <td>...</td>\n",
       "      <td>...</td>\n",
       "      <td>...</td>\n",
       "      <td>...</td>\n",
       "    </tr>\n",
       "    <tr>\n",
       "      <th>1181</th>\n",
       "      <td>1181</td>\n",
       "      <td>7700</td>\n",
       "      <td>1296</td>\n",
       "      <td>1</td>\n",
       "      <td>2017-06-01</td>\n",
       "      <td>0.576923</td>\n",
       "      <td>0.522056</td>\n",
       "      <td>-1</td>\n",
       "      <td>19.0</td>\n",
       "    </tr>\n",
       "    <tr>\n",
       "      <th>1182</th>\n",
       "      <td>1182</td>\n",
       "      <td>7707</td>\n",
       "      <td>1297</td>\n",
       "      <td>1</td>\n",
       "      <td>2017-06-01</td>\n",
       "      <td>0.576923</td>\n",
       "      <td>0.206647</td>\n",
       "      <td>-1</td>\n",
       "      <td>48.0</td>\n",
       "    </tr>\n",
       "    <tr>\n",
       "      <th>1183</th>\n",
       "      <td>1183</td>\n",
       "      <td>7714</td>\n",
       "      <td>1298</td>\n",
       "      <td>1</td>\n",
       "      <td>2017-06-01</td>\n",
       "      <td>0.576923</td>\n",
       "      <td>0.177126</td>\n",
       "      <td>-1</td>\n",
       "      <td>56.0</td>\n",
       "    </tr>\n",
       "    <tr>\n",
       "      <th>1184</th>\n",
       "      <td>1184</td>\n",
       "      <td>7721</td>\n",
       "      <td>1299</td>\n",
       "      <td>1</td>\n",
       "      <td>2017-06-01</td>\n",
       "      <td>0.576923</td>\n",
       "      <td>0.661271</td>\n",
       "      <td>-1</td>\n",
       "      <td>15.0</td>\n",
       "    </tr>\n",
       "    <tr>\n",
       "      <th>1185</th>\n",
       "      <td>1185</td>\n",
       "      <td>7728</td>\n",
       "      <td>1301</td>\n",
       "      <td>1</td>\n",
       "      <td>2017-06-01</td>\n",
       "      <td>0.576923</td>\n",
       "      <td>0.413294</td>\n",
       "      <td>-1</td>\n",
       "      <td>24.0</td>\n",
       "    </tr>\n",
       "  </tbody>\n",
       "</table>\n",
       "<p>1186 rows × 9 columns</p>\n",
       "</div>"
      ],
      "text/plain": [
       "      Unnamed: 0  index  grid_cell  event    fulldate  trigger_coverage   \n",
       "0              0      6          2      1  2017-06-01          0.500000  \\\n",
       "1              1     13          3      1  2017-06-01          0.500000   \n",
       "2              2     20          4      1  2017-06-01          0.500000   \n",
       "3              3     27          5      1  2017-06-01          0.500000   \n",
       "4              4     34          6      1  2017-06-01          0.500000   \n",
       "...          ...    ...        ...    ...         ...               ...   \n",
       "1181        1181   7700       1296      1  2017-06-01          0.576923   \n",
       "1182        1182   7707       1297      1  2017-06-01          0.576923   \n",
       "1183        1183   7714       1298      1  2017-06-01          0.576923   \n",
       "1184        1184   7721       1299      1  2017-06-01          0.576923   \n",
       "1185        1185   7728       1301      1  2017-06-01          0.576923   \n",
       "\n",
       "      coverage  interval    pop  \n",
       "0     0.067509        -1   76.0  \n",
       "1     0.076577        -1   67.0  \n",
       "2     0.301805        -1   17.0  \n",
       "3     0.106889        -1   48.0  \n",
       "4     0.024786        -1  207.0  \n",
       "...        ...       ...    ...  \n",
       "1181  0.522056        -1   19.0  \n",
       "1182  0.206647        -1   48.0  \n",
       "1183  0.177126        -1   56.0  \n",
       "1184  0.661271        -1   15.0  \n",
       "1185  0.413294        -1   24.0  \n",
       "\n",
       "[1186 rows x 9 columns]"
      ]
     },
     "execution_count": 47,
     "metadata": {},
     "output_type": "execute_result"
    }
   ],
   "source": [
    "df_rcd"
   ]
  },
  {
   "cell_type": "code",
   "execution_count": 48,
   "id": "dfac4f03-398e-474b-a828-9dff8b6e37d2",
   "metadata": {
    "tags": []
   },
   "outputs": [
    {
     "data": {
      "text/plain": [
       "event\n",
       "1    0.148667\n",
       "dtype: float64"
      ]
     },
     "execution_count": 48,
     "metadata": {},
     "output_type": "execute_result"
    }
   ],
   "source": [
    "df_rcd.groupby(\"event\").apply(partial(weighted_average, col_name=\"coverage\"))"
   ]
  },
  {
   "cell_type": "code",
   "execution_count": 49,
   "id": "f38196ad-1bf0-4181-b5ca-1cf64fc4897a",
   "metadata": {
    "tags": []
   },
   "outputs": [
    {
     "data": {
      "text/plain": [
       "5.581546192474359"
      ]
     },
     "execution_count": 49,
     "metadata": {},
     "output_type": "execute_result"
    }
   ],
   "source": [
    "np.mean(df_rcd[\"pop\"]*df_rcd[\"coverage\"])"
   ]
  },
  {
   "cell_type": "code",
   "execution_count": 50,
   "id": "898cf421-9aa3-45d9-8aa6-3184ba08a7a1",
   "metadata": {},
   "outputs": [],
   "source": [
    "df_prev = pd.read_csv(\"C:/Users/joshsu/Dropbox (IDM)/Malaria Team Folder/projects/mz_magude/inputs/csvs/reference/grid_prevalence.csv\")"
   ]
  },
  {
   "cell_type": "code",
   "execution_count": 51,
   "id": "4e219276-0da3-4684-98db-15ea477e7e3e",
   "metadata": {
    "tags": []
   },
   "outputs": [],
   "source": [
    "df_prev = pd.merge(df_prev, df_lookup[[\"grid_cell\", \"pop\"]], on=\"grid_cell\", how=\"inner\")"
   ]
  },
  {
   "cell_type": "code",
   "execution_count": 52,
   "id": "e60d9913-8906-4495-835f-0c4315aca060",
   "metadata": {
    "tags": []
   },
   "outputs": [],
   "source": [
    "df_prev[\"N_pos\"] = df_prev[\"prev\"]*df_prev[\"N\"]"
   ]
  },
  {
   "cell_type": "code",
   "execution_count": 53,
   "id": "2ab52baa-228b-40a6-9c99-85f89784f1e2",
   "metadata": {
    "tags": []
   },
   "outputs": [
    {
     "name": "stdout",
     "output_type": "stream",
     "text": [
      "['2015-06-08' '2015-06-09' '2015-06-10' '2015-06-12' '2015-06-05'\n",
      " '2015-06-04' '2015-06-06' '2015-05-21' '2015-06-11' '2015-06-07'\n",
      " '2015-05-23' '2015-05-27' '2015-05-25' '2015-05-26' '2015-05-22'\n",
      " '2015-05-24' '2015-05-20' '2015-05-29' '2015-05-30' '2015-05-18'\n",
      " '2015-05-17' '2015-05-16' '2015-05-15' '2015-05-19' '2015-06-01'\n",
      " '2015-05-28' '2015-05-14' '2015-06-02' '2015-06-03']\n",
      "['2015-11-19' '2015-11-18' '2015-11-20' '2015-11-27' '2015-11-22'\n",
      " '2015-11-26' '2015-11-25' '2015-11-21' '2015-11-12' '2015-11-11'\n",
      " '2015-11-24' '2015-11-15' '2015-11-09' '2015-11-14' '2015-11-13'\n",
      " '2015-11-10' '2015-11-23' '2015-11-17' '2015-11-16']\n",
      "['2016-01-27' '2016-01-28' '2016-01-29' '2016-02-02' '2016-01-30'\n",
      " '2016-02-04' '2016-01-21' '2016-01-20' '2016-01-23' '2016-01-22'\n",
      " '2016-01-31' '2016-01-19' '2016-01-18' '2016-01-25' '2016-02-01'\n",
      " '2016-01-26']\n",
      "['2016-05-26' '2016-05-29' '2016-05-27' '2016-05-20' '2016-06-02'\n",
      " '2016-05-21' '2016-05-31' '2016-05-30' '2016-05-23' '2016-05-12'\n",
      " '2016-05-19' '2016-06-03' '2016-05-24' '2016-05-25' '2016-05-14'\n",
      " '2016-05-18' '2016-05-16' '2016-05-28' '2016-05-13' '2016-05-17'\n",
      " '2016-06-01' '2016-05-22' '2016-05-07' '2016-05-10' '2016-05-09'\n",
      " '2016-05-06' '2016-05-05' '2016-05-11']\n",
      "['2017-05-18' '2017-05-24' '2017-05-19' '2017-05-26' '2017-05-22'\n",
      " '2017-05-06' '2017-05-16' '2017-05-23' '2017-05-27' '2017-05-21'\n",
      " '2017-05-31' '2017-05-12' '2017-05-17' '2017-05-25' '2017-05-11'\n",
      " '2017-05-29' '2017-05-15' '2017-05-10' '2017-05-05' '2017-04-26'\n",
      " '2017-05-04' '2017-05-13' '2017-04-27' '2017-04-25' '2017-05-20'\n",
      " '2017-05-02' '2017-04-28' '2017-05-03' '2017-05-08' '2017-05-09'\n",
      " '2017-05-14' '2017-05-07' '2017-05-30']\n"
     ]
    }
   ],
   "source": [
    "for i, sdf in df_prev.groupby(\"round\"):\n",
    "    print(sdf[\"date\"].unique())"
   ]
  },
  {
   "cell_type": "code",
   "execution_count": 54,
   "id": "b688a205-e6cd-4ef0-ab2a-d15845a3fdb2",
   "metadata": {
    "tags": []
   },
   "outputs": [],
   "source": [
    "df_prev[\"date_ordinal\"] = df_prev[\"date\"].apply(date_to_ordinal)"
   ]
  },
  {
   "cell_type": "code",
   "execution_count": 55,
   "id": "79879f56-fcce-4742-975b-263dbc861248",
   "metadata": {
    "tags": []
   },
   "outputs": [
    {
     "data": {
      "text/plain": [
       "round\n",
       "1    145.0\n",
       "2    318.0\n",
       "3     23.0\n",
       "4    136.0\n",
       "5    128.0\n",
       "dtype: float64"
      ]
     },
     "execution_count": 55,
     "metadata": {},
     "output_type": "execute_result"
    }
   ],
   "source": [
    "df_prev.groupby(\"round\").apply(partial(weighted_average, weight_column=\"N\",col_name=\"date_ordinal\")).round()"
   ]
  },
  {
   "cell_type": "code",
   "execution_count": 56,
   "id": "ec6a261d-7568-43b5-8bfe-a8d9773b3d91",
   "metadata": {
    "tags": []
   },
   "outputs": [
    {
     "data": {
      "text/plain": [
       "'2010-05-25'"
      ]
     },
     "execution_count": 56,
     "metadata": {},
     "output_type": "execute_result"
    }
   ],
   "source": [
    "ordinal_to_date(145,2010)"
   ]
  },
  {
   "cell_type": "code",
   "execution_count": 74,
   "id": "cf9b34d8-4abd-4af1-a9ce-c500b3a55fd1",
   "metadata": {},
   "outputs": [
    {
     "data": {
      "text/plain": [
       "'2010-11-14'"
      ]
     },
     "execution_count": 74,
     "metadata": {},
     "output_type": "execute_result"
    }
   ],
   "source": [
    "ordinal_to_date(318,2010)"
   ]
  },
  {
   "cell_type": "code",
   "execution_count": 75,
   "id": "b9e9f7a8-3141-41ed-b36b-ce42dc8f0aa4",
   "metadata": {},
   "outputs": [
    {
     "data": {
      "text/plain": [
       "'2010-01-23'"
      ]
     },
     "execution_count": 75,
     "metadata": {},
     "output_type": "execute_result"
    }
   ],
   "source": [
    "ordinal_to_date(23,2010)"
   ]
  },
  {
   "cell_type": "code",
   "execution_count": 77,
   "id": "56423021-7c9d-4f8b-9e2c-8fb4c5c5e021",
   "metadata": {},
   "outputs": [
    {
     "data": {
      "text/plain": [
       "'2016-05-15'"
      ]
     },
     "execution_count": 77,
     "metadata": {},
     "output_type": "execute_result"
    }
   ],
   "source": [
    "ordinal_to_date(136,2016)"
   ]
  },
  {
   "cell_type": "code",
   "execution_count": 78,
   "id": "218820a4-6d6a-4306-ad6d-342c835a00fe",
   "metadata": {},
   "outputs": [
    {
     "data": {
      "text/plain": [
       "'2017-05-08'"
      ]
     },
     "execution_count": 78,
     "metadata": {},
     "output_type": "execute_result"
    }
   ],
   "source": [
    "ordinal_to_date(128,2017)"
   ]
  },
  {
   "cell_type": "code",
   "execution_count": 57,
   "id": "b1f8fde6-fd99-41bd-af2f-92b3136f3c96",
   "metadata": {
    "tags": []
   },
   "outputs": [
    {
     "data": {
      "text/html": [
       "<div>\n",
       "<style scoped>\n",
       "    .dataframe tbody tr th:only-of-type {\n",
       "        vertical-align: middle;\n",
       "    }\n",
       "\n",
       "    .dataframe tbody tr th {\n",
       "        vertical-align: top;\n",
       "    }\n",
       "\n",
       "    .dataframe thead th {\n",
       "        text-align: right;\n",
       "    }\n",
       "</style>\n",
       "<table border=\"1\" class=\"dataframe\">\n",
       "  <thead>\n",
       "    <tr style=\"text-align: right;\">\n",
       "      <th></th>\n",
       "      <th>N_sum</th>\n",
       "    </tr>\n",
       "    <tr>\n",
       "      <th>round</th>\n",
       "      <th></th>\n",
       "    </tr>\n",
       "  </thead>\n",
       "  <tbody>\n",
       "    <tr>\n",
       "      <th>1</th>\n",
       "      <td>1017</td>\n",
       "    </tr>\n",
       "    <tr>\n",
       "      <th>2</th>\n",
       "      <td>34680</td>\n",
       "    </tr>\n",
       "    <tr>\n",
       "      <th>3</th>\n",
       "      <td>5397</td>\n",
       "    </tr>\n",
       "    <tr>\n",
       "      <th>4</th>\n",
       "      <td>1536</td>\n",
       "    </tr>\n",
       "    <tr>\n",
       "      <th>5</th>\n",
       "      <td>3240</td>\n",
       "    </tr>\n",
       "  </tbody>\n",
       "</table>\n",
       "</div>"
      ],
      "text/plain": [
       "       N_sum\n",
       "round       \n",
       "1       1017\n",
       "2      34680\n",
       "3       5397\n",
       "4       1536\n",
       "5       3240"
      ]
     },
     "execution_count": 57,
     "metadata": {},
     "output_type": "execute_result"
    }
   ],
   "source": [
    "df_prev.groupby(\"round\").agg(N_sum=(\"N\",\"sum\"))"
   ]
  },
  {
   "cell_type": "code",
   "execution_count": 58,
   "id": "203d316e-393f-4302-835b-2b346393d876",
   "metadata": {
    "tags": []
   },
   "outputs": [
    {
     "data": {
      "text/html": [
       "<div>\n",
       "<style scoped>\n",
       "    .dataframe tbody tr th:only-of-type {\n",
       "        vertical-align: middle;\n",
       "    }\n",
       "\n",
       "    .dataframe tbody tr th {\n",
       "        vertical-align: top;\n",
       "    }\n",
       "\n",
       "    .dataframe thead th {\n",
       "        text-align: right;\n",
       "    }\n",
       "</style>\n",
       "<table border=\"1\" class=\"dataframe\">\n",
       "  <thead>\n",
       "    <tr style=\"text-align: right;\">\n",
       "      <th></th>\n",
       "      <th>N_sum</th>\n",
       "    </tr>\n",
       "    <tr>\n",
       "      <th>round</th>\n",
       "      <th></th>\n",
       "    </tr>\n",
       "  </thead>\n",
       "  <tbody>\n",
       "    <tr>\n",
       "      <th>1</th>\n",
       "      <td>90.697849</td>\n",
       "    </tr>\n",
       "    <tr>\n",
       "      <th>2</th>\n",
       "      <td>1302.000000</td>\n",
       "    </tr>\n",
       "    <tr>\n",
       "      <th>3</th>\n",
       "      <td>73.000000</td>\n",
       "    </tr>\n",
       "    <tr>\n",
       "      <th>4</th>\n",
       "      <td>18.000000</td>\n",
       "    </tr>\n",
       "    <tr>\n",
       "      <th>5</th>\n",
       "      <td>92.102517</td>\n",
       "    </tr>\n",
       "  </tbody>\n",
       "</table>\n",
       "</div>"
      ],
      "text/plain": [
       "             N_sum\n",
       "round             \n",
       "1        90.697849\n",
       "2      1302.000000\n",
       "3        73.000000\n",
       "4        18.000000\n",
       "5        92.102517"
      ]
     },
     "execution_count": 58,
     "metadata": {},
     "output_type": "execute_result"
    }
   ],
   "source": [
    "df_prev.groupby(\"round\").agg(N_sum=(\"N_pos\",\"sum\"))"
   ]
  },
  {
   "cell_type": "code",
   "execution_count": 59,
   "id": "d6371a67-454c-4afd-81bd-4e047cb99ef4",
   "metadata": {
    "tags": []
   },
   "outputs": [
    {
     "data": {
      "text/html": [
       "<div>\n",
       "<style scoped>\n",
       "    .dataframe tbody tr th:only-of-type {\n",
       "        vertical-align: middle;\n",
       "    }\n",
       "\n",
       "    .dataframe tbody tr th {\n",
       "        vertical-align: top;\n",
       "    }\n",
       "\n",
       "    .dataframe thead th {\n",
       "        text-align: right;\n",
       "    }\n",
       "</style>\n",
       "<table border=\"1\" class=\"dataframe\">\n",
       "  <thead>\n",
       "    <tr style=\"text-align: right;\">\n",
       "      <th></th>\n",
       "      <th>N_sum</th>\n",
       "    </tr>\n",
       "    <tr>\n",
       "      <th>round</th>\n",
       "      <th></th>\n",
       "    </tr>\n",
       "  </thead>\n",
       "  <tbody>\n",
       "    <tr>\n",
       "      <th>1</th>\n",
       "      <td>0.089182</td>\n",
       "    </tr>\n",
       "    <tr>\n",
       "      <th>2</th>\n",
       "      <td>0.037543</td>\n",
       "    </tr>\n",
       "    <tr>\n",
       "      <th>3</th>\n",
       "      <td>0.013526</td>\n",
       "    </tr>\n",
       "    <tr>\n",
       "      <th>4</th>\n",
       "      <td>0.011719</td>\n",
       "    </tr>\n",
       "    <tr>\n",
       "      <th>5</th>\n",
       "      <td>0.028427</td>\n",
       "    </tr>\n",
       "  </tbody>\n",
       "</table>\n",
       "</div>"
      ],
      "text/plain": [
       "          N_sum\n",
       "round          \n",
       "1      0.089182\n",
       "2      0.037543\n",
       "3      0.013526\n",
       "4      0.011719\n",
       "5      0.028427"
      ]
     },
     "execution_count": 59,
     "metadata": {},
     "output_type": "execute_result"
    }
   ],
   "source": [
    "df_prev.groupby(\"round\").agg(N_sum=(\"N_pos\",\"sum\"))/df_prev.groupby(\"round\").agg(N_sum=(\"N\",\"sum\"))"
   ]
  },
  {
   "cell_type": "code",
   "execution_count": 60,
   "id": "9dd962a0-6f45-4a61-ae47-9cd8ea45c617",
   "metadata": {
    "tags": []
   },
   "outputs": [],
   "source": [
    "from statsmodels.stats.proportion import proportion_confint"
   ]
  },
  {
   "cell_type": "code",
   "execution_count": 64,
   "id": "ebc2193e-658a-47b2-97cb-df06636b41c3",
   "metadata": {},
   "outputs": [
    {
     "data": {
      "text/plain": [
       "(2.5317487491294045e-05, 0.005558924279826699)"
      ]
     },
     "execution_count": 64,
     "metadata": {},
     "output_type": "execute_result"
    }
   ],
   "source": [
    "proportion_confint(1,1000,method=\"beta\")"
   ]
  },
  {
   "cell_type": "code",
   "execution_count": 73,
   "id": "ec549c0c-16a9-41bc-9a51-87ef131e4e62",
   "metadata": {
    "scrolled": true
   },
   "outputs": [
    {
     "name": "stdout",
     "output_type": "stream",
     "text": [
      "       N_sum  lower_bound  upper_bound\n",
      "round                                 \n",
      "1       1017     0.072383     0.108401\n",
      "2      34680     0.035567     0.039597\n",
      "3       5397     0.010617     0.016977\n",
      "4       1536     0.006960     0.018458\n",
      "5       3240     0.022979     0.034746\n"
     ]
    }
   ],
   "source": [
    "import statsmodels.api as sm\n",
    "\n",
    "def calculate_proportion_confint(df_count, df_nobs, alpha=0.05):\n",
    "    \"\"\"\n",
    "    Calculate the confidence interval for the proportion based on count and nobs.\n",
    "\n",
    "    Parameters:\n",
    "        df_count (pandas.DataFrame): DataFrame with the count for each group (round).\n",
    "        df_nobs (pandas.DataFrame): DataFrame with the number of observations (nobs) for each group (round).\n",
    "        alpha (float, optional): The significance level for the confidence interval. Default is 0.05.\n",
    "\n",
    "    Returns:\n",
    "        pandas.DataFrame: DataFrame containing the lower and upper bounds of the confidence interval for each group.\n",
    "    \"\"\"\n",
    "    df_result = df_count.copy()\n",
    "    df_result['lower_bound'], df_result['upper_bound'] = zip(*df_result.apply(lambda row: sm.stats.proportion_confint(df_nobs.loc[row.name]['N_sum_pos'], row['N_sum'],  method=\"beta\",alpha=alpha), axis=1))\n",
    "    return df_result\n",
    "\n",
    "# Example usage\n",
    "df_prev_count = df_prev.groupby(\"round\").agg(N_sum=(\"N\", \"sum\"))\n",
    "df_prev_nobs = df_prev.groupby(\"round\").agg(N_sum_pos=(\"N_pos\", \"sum\"))\n",
    "confidence_interval_df = calculate_proportion_confint(df_prev_count, df_prev_nobs)\n",
    "print(confidence_interval_df)"
   ]
  },
  {
   "cell_type": "code",
   "execution_count": 71,
   "id": "c6e62cc3-6338-4073-b16e-474fef343ba1",
   "metadata": {},
   "outputs": [
    {
     "data": {
      "text/html": [
       "<div>\n",
       "<style scoped>\n",
       "    .dataframe tbody tr th:only-of-type {\n",
       "        vertical-align: middle;\n",
       "    }\n",
       "\n",
       "    .dataframe tbody tr th {\n",
       "        vertical-align: top;\n",
       "    }\n",
       "\n",
       "    .dataframe thead th {\n",
       "        text-align: right;\n",
       "    }\n",
       "</style>\n",
       "<table border=\"1\" class=\"dataframe\">\n",
       "  <thead>\n",
       "    <tr style=\"text-align: right;\">\n",
       "      <th></th>\n",
       "      <th>N_sum</th>\n",
       "    </tr>\n",
       "    <tr>\n",
       "      <th>round</th>\n",
       "      <th></th>\n",
       "    </tr>\n",
       "  </thead>\n",
       "  <tbody>\n",
       "    <tr>\n",
       "      <th>1</th>\n",
       "      <td>1017</td>\n",
       "    </tr>\n",
       "    <tr>\n",
       "      <th>2</th>\n",
       "      <td>34680</td>\n",
       "    </tr>\n",
       "    <tr>\n",
       "      <th>3</th>\n",
       "      <td>5397</td>\n",
       "    </tr>\n",
       "    <tr>\n",
       "      <th>4</th>\n",
       "      <td>1536</td>\n",
       "    </tr>\n",
       "    <tr>\n",
       "      <th>5</th>\n",
       "      <td>3240</td>\n",
       "    </tr>\n",
       "  </tbody>\n",
       "</table>\n",
       "</div>"
      ],
      "text/plain": [
       "       N_sum\n",
       "round       \n",
       "1       1017\n",
       "2      34680\n",
       "3       5397\n",
       "4       1536\n",
       "5       3240"
      ]
     },
     "execution_count": 71,
     "metadata": {},
     "output_type": "execute_result"
    }
   ],
   "source": [
    "df_prev_count"
   ]
  },
  {
   "cell_type": "code",
   "execution_count": null,
   "id": "b3b6df1b-1109-4434-8024-1d33288d9a2d",
   "metadata": {},
   "outputs": [],
   "source": []
  },
  {
   "cell_type": "code",
   "execution_count": 68,
   "id": "f02f1b78-72e1-415e-b31b-afa1e803a3ad",
   "metadata": {},
   "outputs": [
    {
     "data": {
      "text/html": [
       "<div>\n",
       "<style scoped>\n",
       "    .dataframe tbody tr th:only-of-type {\n",
       "        vertical-align: middle;\n",
       "    }\n",
       "\n",
       "    .dataframe tbody tr th {\n",
       "        vertical-align: top;\n",
       "    }\n",
       "\n",
       "    .dataframe thead th {\n",
       "        text-align: right;\n",
       "    }\n",
       "</style>\n",
       "<table border=\"1\" class=\"dataframe\">\n",
       "  <thead>\n",
       "    <tr style=\"text-align: right;\">\n",
       "      <th></th>\n",
       "      <th>N_sum_pos</th>\n",
       "    </tr>\n",
       "    <tr>\n",
       "      <th>round</th>\n",
       "      <th></th>\n",
       "    </tr>\n",
       "  </thead>\n",
       "  <tbody>\n",
       "    <tr>\n",
       "      <th>1</th>\n",
       "      <td>90.697849</td>\n",
       "    </tr>\n",
       "    <tr>\n",
       "      <th>2</th>\n",
       "      <td>1302.000000</td>\n",
       "    </tr>\n",
       "    <tr>\n",
       "      <th>3</th>\n",
       "      <td>73.000000</td>\n",
       "    </tr>\n",
       "    <tr>\n",
       "      <th>4</th>\n",
       "      <td>18.000000</td>\n",
       "    </tr>\n",
       "    <tr>\n",
       "      <th>5</th>\n",
       "      <td>92.102517</td>\n",
       "    </tr>\n",
       "  </tbody>\n",
       "</table>\n",
       "</div>"
      ],
      "text/plain": [
       "         N_sum_pos\n",
       "round             \n",
       "1        90.697849\n",
       "2      1302.000000\n",
       "3        73.000000\n",
       "4        18.000000\n",
       "5        92.102517"
      ]
     },
     "execution_count": 68,
     "metadata": {},
     "output_type": "execute_result"
    }
   ],
   "source": [
    "df_prev_nobs"
   ]
  },
  {
   "cell_type": "code",
   "execution_count": 69,
   "id": "e90b00bd-b258-4eba-be68-841e30d09fe1",
   "metadata": {},
   "outputs": [
    {
     "data": {
      "text/plain": [
       "round\n",
       "1      90.697849\n",
       "2    1302.000000\n",
       "3      73.000000\n",
       "4      18.000000\n",
       "5      92.102517\n",
       "Name: N_sum_pos, dtype: float64"
      ]
     },
     "execution_count": 69,
     "metadata": {},
     "output_type": "execute_result"
    }
   ],
   "source": [
    "df_prev_nobs['N_sum_pos']"
   ]
  },
  {
   "cell_type": "code",
   "execution_count": 79,
   "id": "55ef5567-abe2-4ba7-9e0a-916ac175486a",
   "metadata": {},
   "outputs": [],
   "source": []
  },
  {
   "cell_type": "code",
   "execution_count": 88,
   "id": "a606b804-0161-4146-a4fa-17519ec7b6be",
   "metadata": {},
   "outputs": [],
   "source": [
    "df_inc = pd.read_csv(\"C:/Users/joshsu/Dropbox (IDM)/Malaria Team Folder/projects/mz_magude/inputs/csvs/other/catchment_incidence_error_correction.csv\")"
   ]
  },
  {
   "cell_type": "code",
   "execution_count": 89,
   "id": "d20a26e0-50c7-4ced-bfc1-a6b8097024f5",
   "metadata": {},
   "outputs": [],
   "source": [
    "df_inc = df_inc[df_inc[\"catchment\"]==\"Magude-Sede-Facazissa\"]"
   ]
  },
  {
   "cell_type": "code",
   "execution_count": 90,
   "id": "c4ed3bef-54a9-4ebb-a70d-adf70c00067a",
   "metadata": {},
   "outputs": [
    {
     "data": {
      "text/html": [
       "<div>\n",
       "<style scoped>\n",
       "    .dataframe tbody tr th:only-of-type {\n",
       "        vertical-align: middle;\n",
       "    }\n",
       "\n",
       "    .dataframe tbody tr th {\n",
       "        vertical-align: top;\n",
       "    }\n",
       "\n",
       "    .dataframe thead th {\n",
       "        text-align: right;\n",
       "    }\n",
       "</style>\n",
       "<table border=\"1\" class=\"dataframe\">\n",
       "  <thead>\n",
       "    <tr style=\"text-align: right;\">\n",
       "      <th></th>\n",
       "      <th>catchment</th>\n",
       "      <th>cases</th>\n",
       "      <th>fulldate</th>\n",
       "    </tr>\n",
       "  </thead>\n",
       "  <tbody>\n",
       "    <tr>\n",
       "      <th>0</th>\n",
       "      <td>Magude-Sede-Facazissa</td>\n",
       "      <td>1118</td>\n",
       "      <td>2014-01-01</td>\n",
       "    </tr>\n",
       "    <tr>\n",
       "      <th>7</th>\n",
       "      <td>Magude-Sede-Facazissa</td>\n",
       "      <td>557</td>\n",
       "      <td>2014-02-01</td>\n",
       "    </tr>\n",
       "    <tr>\n",
       "      <th>14</th>\n",
       "      <td>Magude-Sede-Facazissa</td>\n",
       "      <td>758</td>\n",
       "      <td>2014-03-01</td>\n",
       "    </tr>\n",
       "    <tr>\n",
       "      <th>21</th>\n",
       "      <td>Magude-Sede-Facazissa</td>\n",
       "      <td>250</td>\n",
       "      <td>2014-04-01</td>\n",
       "    </tr>\n",
       "    <tr>\n",
       "      <th>28</th>\n",
       "      <td>Magude-Sede-Facazissa</td>\n",
       "      <td>226</td>\n",
       "      <td>2014-05-01</td>\n",
       "    </tr>\n",
       "    <tr>\n",
       "      <th>35</th>\n",
       "      <td>Magude-Sede-Facazissa</td>\n",
       "      <td>238</td>\n",
       "      <td>2014-06-01</td>\n",
       "    </tr>\n",
       "    <tr>\n",
       "      <th>42</th>\n",
       "      <td>Magude-Sede-Facazissa</td>\n",
       "      <td>89</td>\n",
       "      <td>2014-07-01</td>\n",
       "    </tr>\n",
       "    <tr>\n",
       "      <th>49</th>\n",
       "      <td>Magude-Sede-Facazissa</td>\n",
       "      <td>56</td>\n",
       "      <td>2014-08-01</td>\n",
       "    </tr>\n",
       "    <tr>\n",
       "      <th>56</th>\n",
       "      <td>Magude-Sede-Facazissa</td>\n",
       "      <td>591</td>\n",
       "      <td>2014-09-01</td>\n",
       "    </tr>\n",
       "    <tr>\n",
       "      <th>63</th>\n",
       "      <td>Magude-Sede-Facazissa</td>\n",
       "      <td>508</td>\n",
       "      <td>2014-10-01</td>\n",
       "    </tr>\n",
       "    <tr>\n",
       "      <th>70</th>\n",
       "      <td>Magude-Sede-Facazissa</td>\n",
       "      <td>357</td>\n",
       "      <td>2014-11-01</td>\n",
       "    </tr>\n",
       "    <tr>\n",
       "      <th>77</th>\n",
       "      <td>Magude-Sede-Facazissa</td>\n",
       "      <td>411</td>\n",
       "      <td>2014-12-01</td>\n",
       "    </tr>\n",
       "    <tr>\n",
       "      <th>84</th>\n",
       "      <td>Magude-Sede-Facazissa</td>\n",
       "      <td>967</td>\n",
       "      <td>2015-01-01</td>\n",
       "    </tr>\n",
       "    <tr>\n",
       "      <th>91</th>\n",
       "      <td>Magude-Sede-Facazissa</td>\n",
       "      <td>1533</td>\n",
       "      <td>2015-02-01</td>\n",
       "    </tr>\n",
       "    <tr>\n",
       "      <th>98</th>\n",
       "      <td>Magude-Sede-Facazissa</td>\n",
       "      <td>868</td>\n",
       "      <td>2015-03-01</td>\n",
       "    </tr>\n",
       "    <tr>\n",
       "      <th>105</th>\n",
       "      <td>Magude-Sede-Facazissa</td>\n",
       "      <td>734</td>\n",
       "      <td>2015-04-01</td>\n",
       "    </tr>\n",
       "    <tr>\n",
       "      <th>112</th>\n",
       "      <td>Magude-Sede-Facazissa</td>\n",
       "      <td>864</td>\n",
       "      <td>2015-05-01</td>\n",
       "    </tr>\n",
       "    <tr>\n",
       "      <th>119</th>\n",
       "      <td>Magude-Sede-Facazissa</td>\n",
       "      <td>757</td>\n",
       "      <td>2015-06-01</td>\n",
       "    </tr>\n",
       "    <tr>\n",
       "      <th>126</th>\n",
       "      <td>Magude-Sede-Facazissa</td>\n",
       "      <td>504</td>\n",
       "      <td>2015-07-01</td>\n",
       "    </tr>\n",
       "    <tr>\n",
       "      <th>133</th>\n",
       "      <td>Magude-Sede-Facazissa</td>\n",
       "      <td>333</td>\n",
       "      <td>2015-08-01</td>\n",
       "    </tr>\n",
       "    <tr>\n",
       "      <th>140</th>\n",
       "      <td>Magude-Sede-Facazissa</td>\n",
       "      <td>255</td>\n",
       "      <td>2015-09-01</td>\n",
       "    </tr>\n",
       "    <tr>\n",
       "      <th>147</th>\n",
       "      <td>Magude-Sede-Facazissa</td>\n",
       "      <td>115</td>\n",
       "      <td>2015-10-01</td>\n",
       "    </tr>\n",
       "    <tr>\n",
       "      <th>154</th>\n",
       "      <td>Magude-Sede-Facazissa</td>\n",
       "      <td>121</td>\n",
       "      <td>2015-11-01</td>\n",
       "    </tr>\n",
       "    <tr>\n",
       "      <th>161</th>\n",
       "      <td>Magude-Sede-Facazissa</td>\n",
       "      <td>125</td>\n",
       "      <td>2015-12-01</td>\n",
       "    </tr>\n",
       "    <tr>\n",
       "      <th>168</th>\n",
       "      <td>Magude-Sede-Facazissa</td>\n",
       "      <td>21</td>\n",
       "      <td>2016-01-01</td>\n",
       "    </tr>\n",
       "    <tr>\n",
       "      <th>175</th>\n",
       "      <td>Magude-Sede-Facazissa</td>\n",
       "      <td>26</td>\n",
       "      <td>2016-02-01</td>\n",
       "    </tr>\n",
       "    <tr>\n",
       "      <th>182</th>\n",
       "      <td>Magude-Sede-Facazissa</td>\n",
       "      <td>77</td>\n",
       "      <td>2016-03-01</td>\n",
       "    </tr>\n",
       "    <tr>\n",
       "      <th>189</th>\n",
       "      <td>Magude-Sede-Facazissa</td>\n",
       "      <td>178</td>\n",
       "      <td>2016-04-01</td>\n",
       "    </tr>\n",
       "    <tr>\n",
       "      <th>196</th>\n",
       "      <td>Magude-Sede-Facazissa</td>\n",
       "      <td>164</td>\n",
       "      <td>2016-05-01</td>\n",
       "    </tr>\n",
       "    <tr>\n",
       "      <th>203</th>\n",
       "      <td>Magude-Sede-Facazissa</td>\n",
       "      <td>94</td>\n",
       "      <td>2016-06-01</td>\n",
       "    </tr>\n",
       "    <tr>\n",
       "      <th>211</th>\n",
       "      <td>Magude-Sede-Facazissa</td>\n",
       "      <td>65</td>\n",
       "      <td>2016-07-01</td>\n",
       "    </tr>\n",
       "    <tr>\n",
       "      <th>219</th>\n",
       "      <td>Magude-Sede-Facazissa</td>\n",
       "      <td>50</td>\n",
       "      <td>2016-08-01</td>\n",
       "    </tr>\n",
       "    <tr>\n",
       "      <th>227</th>\n",
       "      <td>Magude-Sede-Facazissa</td>\n",
       "      <td>122</td>\n",
       "      <td>2016-09-01</td>\n",
       "    </tr>\n",
       "    <tr>\n",
       "      <th>235</th>\n",
       "      <td>Magude-Sede-Facazissa</td>\n",
       "      <td>108</td>\n",
       "      <td>2016-10-01</td>\n",
       "    </tr>\n",
       "    <tr>\n",
       "      <th>243</th>\n",
       "      <td>Magude-Sede-Facazissa</td>\n",
       "      <td>88</td>\n",
       "      <td>2016-11-01</td>\n",
       "    </tr>\n",
       "    <tr>\n",
       "      <th>251</th>\n",
       "      <td>Magude-Sede-Facazissa</td>\n",
       "      <td>68</td>\n",
       "      <td>2016-12-01</td>\n",
       "    </tr>\n",
       "    <tr>\n",
       "      <th>259</th>\n",
       "      <td>Magude-Sede-Facazissa</td>\n",
       "      <td>112</td>\n",
       "      <td>2017-01-01</td>\n",
       "    </tr>\n",
       "    <tr>\n",
       "      <th>267</th>\n",
       "      <td>Magude-Sede-Facazissa</td>\n",
       "      <td>184</td>\n",
       "      <td>2017-02-01</td>\n",
       "    </tr>\n",
       "    <tr>\n",
       "      <th>275</th>\n",
       "      <td>Magude-Sede-Facazissa</td>\n",
       "      <td>145</td>\n",
       "      <td>2017-03-01</td>\n",
       "    </tr>\n",
       "    <tr>\n",
       "      <th>283</th>\n",
       "      <td>Magude-Sede-Facazissa</td>\n",
       "      <td>119</td>\n",
       "      <td>2017-04-01</td>\n",
       "    </tr>\n",
       "    <tr>\n",
       "      <th>291</th>\n",
       "      <td>Magude-Sede-Facazissa</td>\n",
       "      <td>112</td>\n",
       "      <td>2017-05-01</td>\n",
       "    </tr>\n",
       "    <tr>\n",
       "      <th>299</th>\n",
       "      <td>Magude-Sede-Facazissa</td>\n",
       "      <td>64</td>\n",
       "      <td>2017-06-01</td>\n",
       "    </tr>\n",
       "    <tr>\n",
       "      <th>307</th>\n",
       "      <td>Magude-Sede-Facazissa</td>\n",
       "      <td>52</td>\n",
       "      <td>2017-07-01</td>\n",
       "    </tr>\n",
       "    <tr>\n",
       "      <th>315</th>\n",
       "      <td>Magude-Sede-Facazissa</td>\n",
       "      <td>85</td>\n",
       "      <td>2017-08-01</td>\n",
       "    </tr>\n",
       "    <tr>\n",
       "      <th>323</th>\n",
       "      <td>Magude-Sede-Facazissa</td>\n",
       "      <td>123</td>\n",
       "      <td>2017-09-01</td>\n",
       "    </tr>\n",
       "    <tr>\n",
       "      <th>331</th>\n",
       "      <td>Magude-Sede-Facazissa</td>\n",
       "      <td>190</td>\n",
       "      <td>2017-10-01</td>\n",
       "    </tr>\n",
       "    <tr>\n",
       "      <th>339</th>\n",
       "      <td>Magude-Sede-Facazissa</td>\n",
       "      <td>27</td>\n",
       "      <td>2017-11-01</td>\n",
       "    </tr>\n",
       "    <tr>\n",
       "      <th>347</th>\n",
       "      <td>Magude-Sede-Facazissa</td>\n",
       "      <td>68</td>\n",
       "      <td>2017-12-01</td>\n",
       "    </tr>\n",
       "    <tr>\n",
       "      <th>355</th>\n",
       "      <td>Magude-Sede-Facazissa</td>\n",
       "      <td>58</td>\n",
       "      <td>2018-01-01</td>\n",
       "    </tr>\n",
       "    <tr>\n",
       "      <th>363</th>\n",
       "      <td>Magude-Sede-Facazissa</td>\n",
       "      <td>40</td>\n",
       "      <td>2018-02-01</td>\n",
       "    </tr>\n",
       "    <tr>\n",
       "      <th>371</th>\n",
       "      <td>Magude-Sede-Facazissa</td>\n",
       "      <td>39</td>\n",
       "      <td>2018-03-01</td>\n",
       "    </tr>\n",
       "  </tbody>\n",
       "</table>\n",
       "</div>"
      ],
      "text/plain": [
       "                 catchment  cases    fulldate\n",
       "0    Magude-Sede-Facazissa   1118  2014-01-01\n",
       "7    Magude-Sede-Facazissa    557  2014-02-01\n",
       "14   Magude-Sede-Facazissa    758  2014-03-01\n",
       "21   Magude-Sede-Facazissa    250  2014-04-01\n",
       "28   Magude-Sede-Facazissa    226  2014-05-01\n",
       "35   Magude-Sede-Facazissa    238  2014-06-01\n",
       "42   Magude-Sede-Facazissa     89  2014-07-01\n",
       "49   Magude-Sede-Facazissa     56  2014-08-01\n",
       "56   Magude-Sede-Facazissa    591  2014-09-01\n",
       "63   Magude-Sede-Facazissa    508  2014-10-01\n",
       "70   Magude-Sede-Facazissa    357  2014-11-01\n",
       "77   Magude-Sede-Facazissa    411  2014-12-01\n",
       "84   Magude-Sede-Facazissa    967  2015-01-01\n",
       "91   Magude-Sede-Facazissa   1533  2015-02-01\n",
       "98   Magude-Sede-Facazissa    868  2015-03-01\n",
       "105  Magude-Sede-Facazissa    734  2015-04-01\n",
       "112  Magude-Sede-Facazissa    864  2015-05-01\n",
       "119  Magude-Sede-Facazissa    757  2015-06-01\n",
       "126  Magude-Sede-Facazissa    504  2015-07-01\n",
       "133  Magude-Sede-Facazissa    333  2015-08-01\n",
       "140  Magude-Sede-Facazissa    255  2015-09-01\n",
       "147  Magude-Sede-Facazissa    115  2015-10-01\n",
       "154  Magude-Sede-Facazissa    121  2015-11-01\n",
       "161  Magude-Sede-Facazissa    125  2015-12-01\n",
       "168  Magude-Sede-Facazissa     21  2016-01-01\n",
       "175  Magude-Sede-Facazissa     26  2016-02-01\n",
       "182  Magude-Sede-Facazissa     77  2016-03-01\n",
       "189  Magude-Sede-Facazissa    178  2016-04-01\n",
       "196  Magude-Sede-Facazissa    164  2016-05-01\n",
       "203  Magude-Sede-Facazissa     94  2016-06-01\n",
       "211  Magude-Sede-Facazissa     65  2016-07-01\n",
       "219  Magude-Sede-Facazissa     50  2016-08-01\n",
       "227  Magude-Sede-Facazissa    122  2016-09-01\n",
       "235  Magude-Sede-Facazissa    108  2016-10-01\n",
       "243  Magude-Sede-Facazissa     88  2016-11-01\n",
       "251  Magude-Sede-Facazissa     68  2016-12-01\n",
       "259  Magude-Sede-Facazissa    112  2017-01-01\n",
       "267  Magude-Sede-Facazissa    184  2017-02-01\n",
       "275  Magude-Sede-Facazissa    145  2017-03-01\n",
       "283  Magude-Sede-Facazissa    119  2017-04-01\n",
       "291  Magude-Sede-Facazissa    112  2017-05-01\n",
       "299  Magude-Sede-Facazissa     64  2017-06-01\n",
       "307  Magude-Sede-Facazissa     52  2017-07-01\n",
       "315  Magude-Sede-Facazissa     85  2017-08-01\n",
       "323  Magude-Sede-Facazissa    123  2017-09-01\n",
       "331  Magude-Sede-Facazissa    190  2017-10-01\n",
       "339  Magude-Sede-Facazissa     27  2017-11-01\n",
       "347  Magude-Sede-Facazissa     68  2017-12-01\n",
       "355  Magude-Sede-Facazissa     58  2018-01-01\n",
       "363  Magude-Sede-Facazissa     40  2018-02-01\n",
       "371  Magude-Sede-Facazissa     39  2018-03-01"
      ]
     },
     "execution_count": 90,
     "metadata": {},
     "output_type": "execute_result"
    }
   ],
   "source": [
    "df_inc"
   ]
  },
  {
   "cell_type": "code",
   "execution_count": 86,
   "id": "e8ba489d-49f9-4bc9-af12-512c859114e3",
   "metadata": {},
   "outputs": [
    {
     "data": {
      "text/plain": [
       "981.2"
      ]
     },
     "execution_count": 86,
     "metadata": {},
     "output_type": "execute_result"
    }
   ],
   "source": [
    "223*4.4"
   ]
  },
  {
   "cell_type": "code",
   "execution_count": 91,
   "id": "be30e304-aba1-4bbe-a1d3-bb5a9fc902b4",
   "metadata": {},
   "outputs": [
    {
     "data": {
      "text/plain": [
       "50.134529147982065"
      ]
     },
     "execution_count": 91,
     "metadata": {},
     "output_type": "execute_result"
    }
   ],
   "source": [
    "1118/223*10"
   ]
  },
  {
   "cell_type": "code",
   "execution_count": 92,
   "id": "87de6edf-453a-41a4-bb05-ed7873485c91",
   "metadata": {},
   "outputs": [
    {
     "data": {
      "text/plain": [
       "44529.0"
      ]
     },
     "execution_count": 92,
     "metadata": {},
     "output_type": "execute_result"
    }
   ],
   "source": [
    "df_lookup[\"pop\"].sum()"
   ]
  },
  {
   "cell_type": "code",
   "execution_count": 93,
   "id": "8675ee83-f1bd-4fea-849b-1b3a6de2efba",
   "metadata": {},
   "outputs": [],
   "source": [
    "df_inc[\"pop\"] = df_lookup[\"pop\"].sum()"
   ]
  },
  {
   "cell_type": "code",
   "execution_count": 96,
   "id": "c56a0667-681f-452b-bf1e-1bd38e973941",
   "metadata": {},
   "outputs": [],
   "source": [
    "df_inc[[\"fulldate\",\"cases\",\"pop\"]].to_csv(\"magude_incidence.csv\", index=False)"
   ]
  },
  {
   "cell_type": "code",
   "execution_count": 97,
   "id": "ab84973f-4372-4555-877b-28eeb66c4f9c",
   "metadata": {},
   "outputs": [
    {
     "data": {
      "text/html": [
       "<div>\n",
       "<style scoped>\n",
       "    .dataframe tbody tr th:only-of-type {\n",
       "        vertical-align: middle;\n",
       "    }\n",
       "\n",
       "    .dataframe tbody tr th {\n",
       "        vertical-align: top;\n",
       "    }\n",
       "\n",
       "    .dataframe thead th {\n",
       "        text-align: right;\n",
       "    }\n",
       "</style>\n",
       "<table border=\"1\" class=\"dataframe\">\n",
       "  <thead>\n",
       "    <tr style=\"text-align: right;\">\n",
       "      <th></th>\n",
       "      <th>catchment</th>\n",
       "      <th>cases</th>\n",
       "      <th>fulldate</th>\n",
       "      <th>pop</th>\n",
       "    </tr>\n",
       "  </thead>\n",
       "  <tbody>\n",
       "    <tr>\n",
       "      <th>0</th>\n",
       "      <td>Magude-Sede-Facazissa</td>\n",
       "      <td>1118</td>\n",
       "      <td>2014-01-01</td>\n",
       "      <td>44529.0</td>\n",
       "    </tr>\n",
       "    <tr>\n",
       "      <th>7</th>\n",
       "      <td>Magude-Sede-Facazissa</td>\n",
       "      <td>557</td>\n",
       "      <td>2014-02-01</td>\n",
       "      <td>44529.0</td>\n",
       "    </tr>\n",
       "    <tr>\n",
       "      <th>14</th>\n",
       "      <td>Magude-Sede-Facazissa</td>\n",
       "      <td>758</td>\n",
       "      <td>2014-03-01</td>\n",
       "      <td>44529.0</td>\n",
       "    </tr>\n",
       "    <tr>\n",
       "      <th>21</th>\n",
       "      <td>Magude-Sede-Facazissa</td>\n",
       "      <td>250</td>\n",
       "      <td>2014-04-01</td>\n",
       "      <td>44529.0</td>\n",
       "    </tr>\n",
       "    <tr>\n",
       "      <th>28</th>\n",
       "      <td>Magude-Sede-Facazissa</td>\n",
       "      <td>226</td>\n",
       "      <td>2014-05-01</td>\n",
       "      <td>44529.0</td>\n",
       "    </tr>\n",
       "    <tr>\n",
       "      <th>35</th>\n",
       "      <td>Magude-Sede-Facazissa</td>\n",
       "      <td>238</td>\n",
       "      <td>2014-06-01</td>\n",
       "      <td>44529.0</td>\n",
       "    </tr>\n",
       "    <tr>\n",
       "      <th>42</th>\n",
       "      <td>Magude-Sede-Facazissa</td>\n",
       "      <td>89</td>\n",
       "      <td>2014-07-01</td>\n",
       "      <td>44529.0</td>\n",
       "    </tr>\n",
       "    <tr>\n",
       "      <th>49</th>\n",
       "      <td>Magude-Sede-Facazissa</td>\n",
       "      <td>56</td>\n",
       "      <td>2014-08-01</td>\n",
       "      <td>44529.0</td>\n",
       "    </tr>\n",
       "    <tr>\n",
       "      <th>56</th>\n",
       "      <td>Magude-Sede-Facazissa</td>\n",
       "      <td>591</td>\n",
       "      <td>2014-09-01</td>\n",
       "      <td>44529.0</td>\n",
       "    </tr>\n",
       "    <tr>\n",
       "      <th>63</th>\n",
       "      <td>Magude-Sede-Facazissa</td>\n",
       "      <td>508</td>\n",
       "      <td>2014-10-01</td>\n",
       "      <td>44529.0</td>\n",
       "    </tr>\n",
       "    <tr>\n",
       "      <th>70</th>\n",
       "      <td>Magude-Sede-Facazissa</td>\n",
       "      <td>357</td>\n",
       "      <td>2014-11-01</td>\n",
       "      <td>44529.0</td>\n",
       "    </tr>\n",
       "    <tr>\n",
       "      <th>77</th>\n",
       "      <td>Magude-Sede-Facazissa</td>\n",
       "      <td>411</td>\n",
       "      <td>2014-12-01</td>\n",
       "      <td>44529.0</td>\n",
       "    </tr>\n",
       "    <tr>\n",
       "      <th>84</th>\n",
       "      <td>Magude-Sede-Facazissa</td>\n",
       "      <td>967</td>\n",
       "      <td>2015-01-01</td>\n",
       "      <td>44529.0</td>\n",
       "    </tr>\n",
       "    <tr>\n",
       "      <th>91</th>\n",
       "      <td>Magude-Sede-Facazissa</td>\n",
       "      <td>1533</td>\n",
       "      <td>2015-02-01</td>\n",
       "      <td>44529.0</td>\n",
       "    </tr>\n",
       "    <tr>\n",
       "      <th>98</th>\n",
       "      <td>Magude-Sede-Facazissa</td>\n",
       "      <td>868</td>\n",
       "      <td>2015-03-01</td>\n",
       "      <td>44529.0</td>\n",
       "    </tr>\n",
       "    <tr>\n",
       "      <th>105</th>\n",
       "      <td>Magude-Sede-Facazissa</td>\n",
       "      <td>734</td>\n",
       "      <td>2015-04-01</td>\n",
       "      <td>44529.0</td>\n",
       "    </tr>\n",
       "    <tr>\n",
       "      <th>112</th>\n",
       "      <td>Magude-Sede-Facazissa</td>\n",
       "      <td>864</td>\n",
       "      <td>2015-05-01</td>\n",
       "      <td>44529.0</td>\n",
       "    </tr>\n",
       "    <tr>\n",
       "      <th>119</th>\n",
       "      <td>Magude-Sede-Facazissa</td>\n",
       "      <td>757</td>\n",
       "      <td>2015-06-01</td>\n",
       "      <td>44529.0</td>\n",
       "    </tr>\n",
       "    <tr>\n",
       "      <th>126</th>\n",
       "      <td>Magude-Sede-Facazissa</td>\n",
       "      <td>504</td>\n",
       "      <td>2015-07-01</td>\n",
       "      <td>44529.0</td>\n",
       "    </tr>\n",
       "    <tr>\n",
       "      <th>133</th>\n",
       "      <td>Magude-Sede-Facazissa</td>\n",
       "      <td>333</td>\n",
       "      <td>2015-08-01</td>\n",
       "      <td>44529.0</td>\n",
       "    </tr>\n",
       "    <tr>\n",
       "      <th>140</th>\n",
       "      <td>Magude-Sede-Facazissa</td>\n",
       "      <td>255</td>\n",
       "      <td>2015-09-01</td>\n",
       "      <td>44529.0</td>\n",
       "    </tr>\n",
       "    <tr>\n",
       "      <th>147</th>\n",
       "      <td>Magude-Sede-Facazissa</td>\n",
       "      <td>115</td>\n",
       "      <td>2015-10-01</td>\n",
       "      <td>44529.0</td>\n",
       "    </tr>\n",
       "    <tr>\n",
       "      <th>154</th>\n",
       "      <td>Magude-Sede-Facazissa</td>\n",
       "      <td>121</td>\n",
       "      <td>2015-11-01</td>\n",
       "      <td>44529.0</td>\n",
       "    </tr>\n",
       "    <tr>\n",
       "      <th>161</th>\n",
       "      <td>Magude-Sede-Facazissa</td>\n",
       "      <td>125</td>\n",
       "      <td>2015-12-01</td>\n",
       "      <td>44529.0</td>\n",
       "    </tr>\n",
       "    <tr>\n",
       "      <th>168</th>\n",
       "      <td>Magude-Sede-Facazissa</td>\n",
       "      <td>21</td>\n",
       "      <td>2016-01-01</td>\n",
       "      <td>44529.0</td>\n",
       "    </tr>\n",
       "    <tr>\n",
       "      <th>175</th>\n",
       "      <td>Magude-Sede-Facazissa</td>\n",
       "      <td>26</td>\n",
       "      <td>2016-02-01</td>\n",
       "      <td>44529.0</td>\n",
       "    </tr>\n",
       "    <tr>\n",
       "      <th>182</th>\n",
       "      <td>Magude-Sede-Facazissa</td>\n",
       "      <td>77</td>\n",
       "      <td>2016-03-01</td>\n",
       "      <td>44529.0</td>\n",
       "    </tr>\n",
       "    <tr>\n",
       "      <th>189</th>\n",
       "      <td>Magude-Sede-Facazissa</td>\n",
       "      <td>178</td>\n",
       "      <td>2016-04-01</td>\n",
       "      <td>44529.0</td>\n",
       "    </tr>\n",
       "    <tr>\n",
       "      <th>196</th>\n",
       "      <td>Magude-Sede-Facazissa</td>\n",
       "      <td>164</td>\n",
       "      <td>2016-05-01</td>\n",
       "      <td>44529.0</td>\n",
       "    </tr>\n",
       "    <tr>\n",
       "      <th>203</th>\n",
       "      <td>Magude-Sede-Facazissa</td>\n",
       "      <td>94</td>\n",
       "      <td>2016-06-01</td>\n",
       "      <td>44529.0</td>\n",
       "    </tr>\n",
       "    <tr>\n",
       "      <th>211</th>\n",
       "      <td>Magude-Sede-Facazissa</td>\n",
       "      <td>65</td>\n",
       "      <td>2016-07-01</td>\n",
       "      <td>44529.0</td>\n",
       "    </tr>\n",
       "    <tr>\n",
       "      <th>219</th>\n",
       "      <td>Magude-Sede-Facazissa</td>\n",
       "      <td>50</td>\n",
       "      <td>2016-08-01</td>\n",
       "      <td>44529.0</td>\n",
       "    </tr>\n",
       "    <tr>\n",
       "      <th>227</th>\n",
       "      <td>Magude-Sede-Facazissa</td>\n",
       "      <td>122</td>\n",
       "      <td>2016-09-01</td>\n",
       "      <td>44529.0</td>\n",
       "    </tr>\n",
       "    <tr>\n",
       "      <th>235</th>\n",
       "      <td>Magude-Sede-Facazissa</td>\n",
       "      <td>108</td>\n",
       "      <td>2016-10-01</td>\n",
       "      <td>44529.0</td>\n",
       "    </tr>\n",
       "    <tr>\n",
       "      <th>243</th>\n",
       "      <td>Magude-Sede-Facazissa</td>\n",
       "      <td>88</td>\n",
       "      <td>2016-11-01</td>\n",
       "      <td>44529.0</td>\n",
       "    </tr>\n",
       "    <tr>\n",
       "      <th>251</th>\n",
       "      <td>Magude-Sede-Facazissa</td>\n",
       "      <td>68</td>\n",
       "      <td>2016-12-01</td>\n",
       "      <td>44529.0</td>\n",
       "    </tr>\n",
       "    <tr>\n",
       "      <th>259</th>\n",
       "      <td>Magude-Sede-Facazissa</td>\n",
       "      <td>112</td>\n",
       "      <td>2017-01-01</td>\n",
       "      <td>44529.0</td>\n",
       "    </tr>\n",
       "    <tr>\n",
       "      <th>267</th>\n",
       "      <td>Magude-Sede-Facazissa</td>\n",
       "      <td>184</td>\n",
       "      <td>2017-02-01</td>\n",
       "      <td>44529.0</td>\n",
       "    </tr>\n",
       "    <tr>\n",
       "      <th>275</th>\n",
       "      <td>Magude-Sede-Facazissa</td>\n",
       "      <td>145</td>\n",
       "      <td>2017-03-01</td>\n",
       "      <td>44529.0</td>\n",
       "    </tr>\n",
       "    <tr>\n",
       "      <th>283</th>\n",
       "      <td>Magude-Sede-Facazissa</td>\n",
       "      <td>119</td>\n",
       "      <td>2017-04-01</td>\n",
       "      <td>44529.0</td>\n",
       "    </tr>\n",
       "    <tr>\n",
       "      <th>291</th>\n",
       "      <td>Magude-Sede-Facazissa</td>\n",
       "      <td>112</td>\n",
       "      <td>2017-05-01</td>\n",
       "      <td>44529.0</td>\n",
       "    </tr>\n",
       "    <tr>\n",
       "      <th>299</th>\n",
       "      <td>Magude-Sede-Facazissa</td>\n",
       "      <td>64</td>\n",
       "      <td>2017-06-01</td>\n",
       "      <td>44529.0</td>\n",
       "    </tr>\n",
       "    <tr>\n",
       "      <th>307</th>\n",
       "      <td>Magude-Sede-Facazissa</td>\n",
       "      <td>52</td>\n",
       "      <td>2017-07-01</td>\n",
       "      <td>44529.0</td>\n",
       "    </tr>\n",
       "    <tr>\n",
       "      <th>315</th>\n",
       "      <td>Magude-Sede-Facazissa</td>\n",
       "      <td>85</td>\n",
       "      <td>2017-08-01</td>\n",
       "      <td>44529.0</td>\n",
       "    </tr>\n",
       "    <tr>\n",
       "      <th>323</th>\n",
       "      <td>Magude-Sede-Facazissa</td>\n",
       "      <td>123</td>\n",
       "      <td>2017-09-01</td>\n",
       "      <td>44529.0</td>\n",
       "    </tr>\n",
       "    <tr>\n",
       "      <th>331</th>\n",
       "      <td>Magude-Sede-Facazissa</td>\n",
       "      <td>190</td>\n",
       "      <td>2017-10-01</td>\n",
       "      <td>44529.0</td>\n",
       "    </tr>\n",
       "    <tr>\n",
       "      <th>339</th>\n",
       "      <td>Magude-Sede-Facazissa</td>\n",
       "      <td>27</td>\n",
       "      <td>2017-11-01</td>\n",
       "      <td>44529.0</td>\n",
       "    </tr>\n",
       "    <tr>\n",
       "      <th>347</th>\n",
       "      <td>Magude-Sede-Facazissa</td>\n",
       "      <td>68</td>\n",
       "      <td>2017-12-01</td>\n",
       "      <td>44529.0</td>\n",
       "    </tr>\n",
       "    <tr>\n",
       "      <th>355</th>\n",
       "      <td>Magude-Sede-Facazissa</td>\n",
       "      <td>58</td>\n",
       "      <td>2018-01-01</td>\n",
       "      <td>44529.0</td>\n",
       "    </tr>\n",
       "    <tr>\n",
       "      <th>363</th>\n",
       "      <td>Magude-Sede-Facazissa</td>\n",
       "      <td>40</td>\n",
       "      <td>2018-02-01</td>\n",
       "      <td>44529.0</td>\n",
       "    </tr>\n",
       "    <tr>\n",
       "      <th>371</th>\n",
       "      <td>Magude-Sede-Facazissa</td>\n",
       "      <td>39</td>\n",
       "      <td>2018-03-01</td>\n",
       "      <td>44529.0</td>\n",
       "    </tr>\n",
       "  </tbody>\n",
       "</table>\n",
       "</div>"
      ],
      "text/plain": [
       "                 catchment  cases    fulldate      pop\n",
       "0    Magude-Sede-Facazissa   1118  2014-01-01  44529.0\n",
       "7    Magude-Sede-Facazissa    557  2014-02-01  44529.0\n",
       "14   Magude-Sede-Facazissa    758  2014-03-01  44529.0\n",
       "21   Magude-Sede-Facazissa    250  2014-04-01  44529.0\n",
       "28   Magude-Sede-Facazissa    226  2014-05-01  44529.0\n",
       "35   Magude-Sede-Facazissa    238  2014-06-01  44529.0\n",
       "42   Magude-Sede-Facazissa     89  2014-07-01  44529.0\n",
       "49   Magude-Sede-Facazissa     56  2014-08-01  44529.0\n",
       "56   Magude-Sede-Facazissa    591  2014-09-01  44529.0\n",
       "63   Magude-Sede-Facazissa    508  2014-10-01  44529.0\n",
       "70   Magude-Sede-Facazissa    357  2014-11-01  44529.0\n",
       "77   Magude-Sede-Facazissa    411  2014-12-01  44529.0\n",
       "84   Magude-Sede-Facazissa    967  2015-01-01  44529.0\n",
       "91   Magude-Sede-Facazissa   1533  2015-02-01  44529.0\n",
       "98   Magude-Sede-Facazissa    868  2015-03-01  44529.0\n",
       "105  Magude-Sede-Facazissa    734  2015-04-01  44529.0\n",
       "112  Magude-Sede-Facazissa    864  2015-05-01  44529.0\n",
       "119  Magude-Sede-Facazissa    757  2015-06-01  44529.0\n",
       "126  Magude-Sede-Facazissa    504  2015-07-01  44529.0\n",
       "133  Magude-Sede-Facazissa    333  2015-08-01  44529.0\n",
       "140  Magude-Sede-Facazissa    255  2015-09-01  44529.0\n",
       "147  Magude-Sede-Facazissa    115  2015-10-01  44529.0\n",
       "154  Magude-Sede-Facazissa    121  2015-11-01  44529.0\n",
       "161  Magude-Sede-Facazissa    125  2015-12-01  44529.0\n",
       "168  Magude-Sede-Facazissa     21  2016-01-01  44529.0\n",
       "175  Magude-Sede-Facazissa     26  2016-02-01  44529.0\n",
       "182  Magude-Sede-Facazissa     77  2016-03-01  44529.0\n",
       "189  Magude-Sede-Facazissa    178  2016-04-01  44529.0\n",
       "196  Magude-Sede-Facazissa    164  2016-05-01  44529.0\n",
       "203  Magude-Sede-Facazissa     94  2016-06-01  44529.0\n",
       "211  Magude-Sede-Facazissa     65  2016-07-01  44529.0\n",
       "219  Magude-Sede-Facazissa     50  2016-08-01  44529.0\n",
       "227  Magude-Sede-Facazissa    122  2016-09-01  44529.0\n",
       "235  Magude-Sede-Facazissa    108  2016-10-01  44529.0\n",
       "243  Magude-Sede-Facazissa     88  2016-11-01  44529.0\n",
       "251  Magude-Sede-Facazissa     68  2016-12-01  44529.0\n",
       "259  Magude-Sede-Facazissa    112  2017-01-01  44529.0\n",
       "267  Magude-Sede-Facazissa    184  2017-02-01  44529.0\n",
       "275  Magude-Sede-Facazissa    145  2017-03-01  44529.0\n",
       "283  Magude-Sede-Facazissa    119  2017-04-01  44529.0\n",
       "291  Magude-Sede-Facazissa    112  2017-05-01  44529.0\n",
       "299  Magude-Sede-Facazissa     64  2017-06-01  44529.0\n",
       "307  Magude-Sede-Facazissa     52  2017-07-01  44529.0\n",
       "315  Magude-Sede-Facazissa     85  2017-08-01  44529.0\n",
       "323  Magude-Sede-Facazissa    123  2017-09-01  44529.0\n",
       "331  Magude-Sede-Facazissa    190  2017-10-01  44529.0\n",
       "339  Magude-Sede-Facazissa     27  2017-11-01  44529.0\n",
       "347  Magude-Sede-Facazissa     68  2017-12-01  44529.0\n",
       "355  Magude-Sede-Facazissa     58  2018-01-01  44529.0\n",
       "363  Magude-Sede-Facazissa     40  2018-02-01  44529.0\n",
       "371  Magude-Sede-Facazissa     39  2018-03-01  44529.0"
      ]
     },
     "execution_count": 97,
     "metadata": {},
     "output_type": "execute_result"
    }
   ],
   "source": [
    "df_inc"
   ]
  },
  {
   "cell_type": "code",
   "execution_count": null,
   "id": "b59a7ab6-733c-481c-8aad-d7fe1ababb55",
   "metadata": {},
   "outputs": [],
   "source": []
  }
 ],
 "metadata": {
  "kernelspec": {
   "display_name": "Python 3 (ipykernel)",
   "language": "python",
   "name": "python3"
  },
  "language_info": {
   "codemirror_mode": {
    "name": "ipython",
    "version": 3
   },
   "file_extension": ".py",
   "mimetype": "text/x-python",
   "name": "python",
   "nbconvert_exporter": "python",
   "pygments_lexer": "ipython3",
   "version": "3.9.13"
  }
 },
 "nbformat": 4,
 "nbformat_minor": 5
}
