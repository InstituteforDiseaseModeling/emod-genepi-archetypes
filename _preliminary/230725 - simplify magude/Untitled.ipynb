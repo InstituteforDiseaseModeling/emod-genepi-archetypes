{
 "cells": [
  {
   "cell_type": "code",
   "execution_count": 1,
   "id": "71e6ad87-d8b3-4129-a704-4b5085e6659c",
   "metadata": {
    "tags": []
   },
   "outputs": [],
   "source": [
    "import pandas as pd\n",
    "import numpy as np"
   ]
  },
  {
   "cell_type": "markdown",
   "id": "a4fcd33b-677f-4960-ab03-18cca6eac90c",
   "metadata": {
    "tags": []
   },
   "source": [
    "Goal: create single-node version of Magude-Sede-Facazissa spatial sims, for e2e workflow"
   ]
  },
  {
   "cell_type": "code",
   "execution_count": 5,
   "id": "4b04b9a7-1d20-4a0a-9401-e431d34c1424",
   "metadata": {
    "tags": []
   },
   "outputs": [],
   "source": [
    "df_lookup = pd.read_csv(\"C:/Users/joshsu/Dropbox (IDM)/Malaria Team Folder/projects/mz_magude/inputs/csvs/reference/grid_lookup.csv\")"
   ]
  },
  {
   "cell_type": "code",
   "execution_count": 7,
   "id": "6a7668ed-06cd-443e-90db-0422ffd63eb1",
   "metadata": {
    "tags": []
   },
   "outputs": [
    {
     "data": {
      "text/plain": [
       "array(['Mapulanguene', 'Panjane-Caputine', 'Mahel', 'Chichuco', 'Moine',\n",
       "       'Magude-Sede-Facazissa', 'Chicutso', 'Motaze'], dtype=object)"
      ]
     },
     "execution_count": 7,
     "metadata": {},
     "output_type": "execute_result"
    }
   ],
   "source": [
    "df_lookup[\"catchment\"].unique()"
   ]
  },
  {
   "cell_type": "code",
   "execution_count": 8,
   "id": "7f45ac91-e8f3-4c03-bb1b-0bfe617c367d",
   "metadata": {
    "tags": []
   },
   "outputs": [],
   "source": [
    "df_lookup = df_lookup[df_lookup[\"catchment\"] == \"Magude-Sede-Facazissa\"].reset_index(drop=True)"
   ]
  },
  {
   "cell_type": "code",
   "execution_count": 9,
   "id": "ce514f89-01f0-4e7c-bfd6-dc874190a2c8",
   "metadata": {
    "tags": []
   },
   "outputs": [
    {
     "data": {
      "text/html": [
       "<div>\n",
       "<style scoped>\n",
       "    .dataframe tbody tr th:only-of-type {\n",
       "        vertical-align: middle;\n",
       "    }\n",
       "\n",
       "    .dataframe tbody tr th {\n",
       "        vertical-align: top;\n",
       "    }\n",
       "\n",
       "    .dataframe thead th {\n",
       "        text-align: right;\n",
       "    }\n",
       "</style>\n",
       "<table border=\"1\" class=\"dataframe\">\n",
       "  <thead>\n",
       "    <tr style=\"text-align: right;\">\n",
       "      <th></th>\n",
       "      <th>grid_cell</th>\n",
       "      <th>lon</th>\n",
       "      <th>lat</th>\n",
       "      <th>bairro</th>\n",
       "      <th>bairro_name</th>\n",
       "      <th>catchment</th>\n",
       "      <th>pop</th>\n",
       "    </tr>\n",
       "  </thead>\n",
       "  <tbody>\n",
       "    <tr>\n",
       "      <th>0</th>\n",
       "      <td>543</td>\n",
       "      <td>32.524138</td>\n",
       "      <td>-25.055216</td>\n",
       "      <td>60</td>\n",
       "      <td>Chissanguane</td>\n",
       "      <td>Magude-Sede-Facazissa</td>\n",
       "      <td>1.0</td>\n",
       "    </tr>\n",
       "    <tr>\n",
       "      <th>1</th>\n",
       "      <td>544</td>\n",
       "      <td>32.524138</td>\n",
       "      <td>-25.046233</td>\n",
       "      <td>60</td>\n",
       "      <td>Chissanguane</td>\n",
       "      <td>Magude-Sede-Facazissa</td>\n",
       "      <td>6.0</td>\n",
       "    </tr>\n",
       "    <tr>\n",
       "      <th>2</th>\n",
       "      <td>579</td>\n",
       "      <td>32.534158</td>\n",
       "      <td>-25.046233</td>\n",
       "      <td>60</td>\n",
       "      <td>Chissanguane</td>\n",
       "      <td>Magude-Sede-Facazissa</td>\n",
       "      <td>6.0</td>\n",
       "    </tr>\n",
       "    <tr>\n",
       "      <th>3</th>\n",
       "      <td>580</td>\n",
       "      <td>32.534158</td>\n",
       "      <td>-25.037250</td>\n",
       "      <td>60</td>\n",
       "      <td>Chissanguane</td>\n",
       "      <td>Magude-Sede-Facazissa</td>\n",
       "      <td>2.0</td>\n",
       "    </tr>\n",
       "    <tr>\n",
       "      <th>4</th>\n",
       "      <td>581</td>\n",
       "      <td>32.534158</td>\n",
       "      <td>-25.028267</td>\n",
       "      <td>60</td>\n",
       "      <td>Chissanguane</td>\n",
       "      <td>Magude-Sede-Facazissa</td>\n",
       "      <td>1.0</td>\n",
       "    </tr>\n",
       "    <tr>\n",
       "      <th>...</th>\n",
       "      <td>...</td>\n",
       "      <td>...</td>\n",
       "      <td>...</td>\n",
       "      <td>...</td>\n",
       "      <td>...</td>\n",
       "      <td>...</td>\n",
       "      <td>...</td>\n",
       "    </tr>\n",
       "    <tr>\n",
       "      <th>326</th>\n",
       "      <td>1169</td>\n",
       "      <td>32.834752</td>\n",
       "      <td>-24.965385</td>\n",
       "      <td>6</td>\n",
       "      <td>Facazisse</td>\n",
       "      <td>Magude-Sede-Facazissa</td>\n",
       "      <td>2.0</td>\n",
       "    </tr>\n",
       "    <tr>\n",
       "      <th>327</th>\n",
       "      <td>1187</td>\n",
       "      <td>32.844772</td>\n",
       "      <td>-24.974368</td>\n",
       "      <td>6</td>\n",
       "      <td>Facazisse</td>\n",
       "      <td>Magude-Sede-Facazissa</td>\n",
       "      <td>10.0</td>\n",
       "    </tr>\n",
       "    <tr>\n",
       "      <th>328</th>\n",
       "      <td>1188</td>\n",
       "      <td>32.844772</td>\n",
       "      <td>-24.965385</td>\n",
       "      <td>6</td>\n",
       "      <td>Facazisse</td>\n",
       "      <td>Magude-Sede-Facazissa</td>\n",
       "      <td>10.0</td>\n",
       "    </tr>\n",
       "    <tr>\n",
       "      <th>329</th>\n",
       "      <td>1205</td>\n",
       "      <td>32.854791</td>\n",
       "      <td>-24.974368</td>\n",
       "      <td>6</td>\n",
       "      <td>Facazisse</td>\n",
       "      <td>Magude-Sede-Facazissa</td>\n",
       "      <td>3.0</td>\n",
       "    </tr>\n",
       "    <tr>\n",
       "      <th>330</th>\n",
       "      <td>1206</td>\n",
       "      <td>32.854791</td>\n",
       "      <td>-24.965385</td>\n",
       "      <td>6</td>\n",
       "      <td>Facazisse</td>\n",
       "      <td>Magude-Sede-Facazissa</td>\n",
       "      <td>37.0</td>\n",
       "    </tr>\n",
       "  </tbody>\n",
       "</table>\n",
       "<p>331 rows × 7 columns</p>\n",
       "</div>"
      ],
      "text/plain": [
       "     grid_cell        lon        lat  bairro   bairro_name  \\\n",
       "0          543  32.524138 -25.055216      60  Chissanguane   \n",
       "1          544  32.524138 -25.046233      60  Chissanguane   \n",
       "2          579  32.534158 -25.046233      60  Chissanguane   \n",
       "3          580  32.534158 -25.037250      60  Chissanguane   \n",
       "4          581  32.534158 -25.028267      60  Chissanguane   \n",
       "..         ...        ...        ...     ...           ...   \n",
       "326       1169  32.834752 -24.965385       6     Facazisse   \n",
       "327       1187  32.844772 -24.974368       6     Facazisse   \n",
       "328       1188  32.844772 -24.965385       6     Facazisse   \n",
       "329       1205  32.854791 -24.974368       6     Facazisse   \n",
       "330       1206  32.854791 -24.965385       6     Facazisse   \n",
       "\n",
       "                 catchment   pop  \n",
       "0    Magude-Sede-Facazissa   1.0  \n",
       "1    Magude-Sede-Facazissa   6.0  \n",
       "2    Magude-Sede-Facazissa   6.0  \n",
       "3    Magude-Sede-Facazissa   2.0  \n",
       "4    Magude-Sede-Facazissa   1.0  \n",
       "..                     ...   ...  \n",
       "326  Magude-Sede-Facazissa   2.0  \n",
       "327  Magude-Sede-Facazissa  10.0  \n",
       "328  Magude-Sede-Facazissa  10.0  \n",
       "329  Magude-Sede-Facazissa   3.0  \n",
       "330  Magude-Sede-Facazissa  37.0  \n",
       "\n",
       "[331 rows x 7 columns]"
      ]
     },
     "execution_count": 9,
     "metadata": {},
     "output_type": "execute_result"
    }
   ],
   "source": [
    "df_lookup"
   ]
  },
  {
   "cell_type": "code",
   "execution_count": 10,
   "id": "27f634a1-3063-46f8-8e4b-07d41b35c14d",
   "metadata": {
    "tags": []
   },
   "outputs": [],
   "source": [
    "df_itn = pd.read_csv(\"C:/Users/joshsu/Dropbox (IDM)/Malaria Team Folder/projects/mz_magude/inputs/csvs/interventions/grid_all_itn_events.csv\")"
   ]
  },
  {
   "cell_type": "code",
   "execution_count": 18,
   "id": "0cdf6ef6-4215-4e68-9d1b-3f44dbf222d1",
   "metadata": {
    "tags": []
   },
   "outputs": [],
   "source": [
    "df_itn = pd.merge(df_itn, df_lookup[[\"grid_cell\", \"pop\"]], on=\"grid_cell\", how=\"inner\")"
   ]
  },
  {
   "cell_type": "code",
   "execution_count": 19,
   "id": "b3954e82-2264-4e16-8634-83301f470491",
   "metadata": {
    "tags": []
   },
   "outputs": [
    {
     "data": {
      "text/html": [
       "<div>\n",
       "<style scoped>\n",
       "    .dataframe tbody tr th:only-of-type {\n",
       "        vertical-align: middle;\n",
       "    }\n",
       "\n",
       "    .dataframe tbody tr th {\n",
       "        vertical-align: top;\n",
       "    }\n",
       "\n",
       "    .dataframe thead th {\n",
       "        text-align: right;\n",
       "    }\n",
       "</style>\n",
       "<table border=\"1\" class=\"dataframe\">\n",
       "  <thead>\n",
       "    <tr style=\"text-align: right;\">\n",
       "      <th></th>\n",
       "      <th>event</th>\n",
       "      <th>fulldate</th>\n",
       "      <th>cov_all</th>\n",
       "      <th>age_cov</th>\n",
       "      <th>min_season_cov</th>\n",
       "      <th>fast_fraction</th>\n",
       "      <th>grid_cell</th>\n",
       "      <th>discard_type_flag</th>\n",
       "      <th>killing_initial</th>\n",
       "      <th>killing_decay_constant</th>\n",
       "      <th>blocking_initial</th>\n",
       "      <th>blocking_decay_constant</th>\n",
       "      <th>max_season_cov_day</th>\n",
       "      <th>pop</th>\n",
       "    </tr>\n",
       "  </thead>\n",
       "  <tbody>\n",
       "    <tr>\n",
       "      <th>0</th>\n",
       "      <td>1</td>\n",
       "      <td>2014-02-01</td>\n",
       "      <td>0.40</td>\n",
       "      <td>0.9</td>\n",
       "      <td>0.58</td>\n",
       "      <td>0.6</td>\n",
       "      <td>544</td>\n",
       "      <td>0</td>\n",
       "      <td>0.70</td>\n",
       "      <td>781</td>\n",
       "      <td>0.60</td>\n",
       "      <td>2046</td>\n",
       "      <td>40</td>\n",
       "      <td>6.0</td>\n",
       "    </tr>\n",
       "    <tr>\n",
       "      <th>1</th>\n",
       "      <td>2</td>\n",
       "      <td>2015-05-01</td>\n",
       "      <td>0.50</td>\n",
       "      <td>0.9</td>\n",
       "      <td>0.58</td>\n",
       "      <td>0.0</td>\n",
       "      <td>544</td>\n",
       "      <td>1</td>\n",
       "      <td>0.39</td>\n",
       "      <td>781</td>\n",
       "      <td>0.48</td>\n",
       "      <td>2046</td>\n",
       "      <td>40</td>\n",
       "      <td>6.0</td>\n",
       "    </tr>\n",
       "    <tr>\n",
       "      <th>2</th>\n",
       "      <td>3</td>\n",
       "      <td>2015-09-01</td>\n",
       "      <td>0.40</td>\n",
       "      <td>0.9</td>\n",
       "      <td>0.58</td>\n",
       "      <td>0.0</td>\n",
       "      <td>544</td>\n",
       "      <td>1</td>\n",
       "      <td>0.34</td>\n",
       "      <td>781</td>\n",
       "      <td>0.45</td>\n",
       "      <td>2046</td>\n",
       "      <td>40</td>\n",
       "      <td>6.0</td>\n",
       "    </tr>\n",
       "    <tr>\n",
       "      <th>3</th>\n",
       "      <td>4</td>\n",
       "      <td>2017-12-01</td>\n",
       "      <td>0.75</td>\n",
       "      <td>0.9</td>\n",
       "      <td>0.58</td>\n",
       "      <td>0.0</td>\n",
       "      <td>544</td>\n",
       "      <td>1</td>\n",
       "      <td>0.70</td>\n",
       "      <td>781</td>\n",
       "      <td>0.60</td>\n",
       "      <td>2046</td>\n",
       "      <td>40</td>\n",
       "      <td>6.0</td>\n",
       "    </tr>\n",
       "    <tr>\n",
       "      <th>4</th>\n",
       "      <td>1</td>\n",
       "      <td>2014-02-01</td>\n",
       "      <td>0.40</td>\n",
       "      <td>0.9</td>\n",
       "      <td>0.58</td>\n",
       "      <td>0.6</td>\n",
       "      <td>579</td>\n",
       "      <td>0</td>\n",
       "      <td>0.70</td>\n",
       "      <td>781</td>\n",
       "      <td>0.60</td>\n",
       "      <td>2046</td>\n",
       "      <td>40</td>\n",
       "      <td>6.0</td>\n",
       "    </tr>\n",
       "    <tr>\n",
       "      <th>...</th>\n",
       "      <td>...</td>\n",
       "      <td>...</td>\n",
       "      <td>...</td>\n",
       "      <td>...</td>\n",
       "      <td>...</td>\n",
       "      <td>...</td>\n",
       "      <td>...</td>\n",
       "      <td>...</td>\n",
       "      <td>...</td>\n",
       "      <td>...</td>\n",
       "      <td>...</td>\n",
       "      <td>...</td>\n",
       "      <td>...</td>\n",
       "      <td>...</td>\n",
       "    </tr>\n",
       "    <tr>\n",
       "      <th>1179</th>\n",
       "      <td>4</td>\n",
       "      <td>2017-12-01</td>\n",
       "      <td>0.75</td>\n",
       "      <td>0.9</td>\n",
       "      <td>0.58</td>\n",
       "      <td>0.0</td>\n",
       "      <td>1205</td>\n",
       "      <td>1</td>\n",
       "      <td>0.70</td>\n",
       "      <td>781</td>\n",
       "      <td>0.60</td>\n",
       "      <td>2046</td>\n",
       "      <td>40</td>\n",
       "      <td>3.0</td>\n",
       "    </tr>\n",
       "    <tr>\n",
       "      <th>1180</th>\n",
       "      <td>1</td>\n",
       "      <td>2014-02-01</td>\n",
       "      <td>0.40</td>\n",
       "      <td>0.9</td>\n",
       "      <td>0.58</td>\n",
       "      <td>0.6</td>\n",
       "      <td>1206</td>\n",
       "      <td>0</td>\n",
       "      <td>0.70</td>\n",
       "      <td>781</td>\n",
       "      <td>0.60</td>\n",
       "      <td>2046</td>\n",
       "      <td>40</td>\n",
       "      <td>37.0</td>\n",
       "    </tr>\n",
       "    <tr>\n",
       "      <th>1181</th>\n",
       "      <td>2</td>\n",
       "      <td>2015-05-01</td>\n",
       "      <td>0.50</td>\n",
       "      <td>0.9</td>\n",
       "      <td>0.58</td>\n",
       "      <td>0.0</td>\n",
       "      <td>1206</td>\n",
       "      <td>1</td>\n",
       "      <td>0.39</td>\n",
       "      <td>781</td>\n",
       "      <td>0.48</td>\n",
       "      <td>2046</td>\n",
       "      <td>40</td>\n",
       "      <td>37.0</td>\n",
       "    </tr>\n",
       "    <tr>\n",
       "      <th>1182</th>\n",
       "      <td>3</td>\n",
       "      <td>2015-09-01</td>\n",
       "      <td>0.75</td>\n",
       "      <td>0.9</td>\n",
       "      <td>0.58</td>\n",
       "      <td>0.0</td>\n",
       "      <td>1206</td>\n",
       "      <td>1</td>\n",
       "      <td>0.34</td>\n",
       "      <td>781</td>\n",
       "      <td>0.45</td>\n",
       "      <td>2046</td>\n",
       "      <td>40</td>\n",
       "      <td>37.0</td>\n",
       "    </tr>\n",
       "    <tr>\n",
       "      <th>1183</th>\n",
       "      <td>4</td>\n",
       "      <td>2017-12-01</td>\n",
       "      <td>0.75</td>\n",
       "      <td>0.9</td>\n",
       "      <td>0.58</td>\n",
       "      <td>0.0</td>\n",
       "      <td>1206</td>\n",
       "      <td>1</td>\n",
       "      <td>0.70</td>\n",
       "      <td>781</td>\n",
       "      <td>0.60</td>\n",
       "      <td>2046</td>\n",
       "      <td>40</td>\n",
       "      <td>37.0</td>\n",
       "    </tr>\n",
       "  </tbody>\n",
       "</table>\n",
       "<p>1184 rows × 14 columns</p>\n",
       "</div>"
      ],
      "text/plain": [
       "      event    fulldate  cov_all  age_cov  min_season_cov  fast_fraction  \\\n",
       "0         1  2014-02-01     0.40      0.9            0.58            0.6   \n",
       "1         2  2015-05-01     0.50      0.9            0.58            0.0   \n",
       "2         3  2015-09-01     0.40      0.9            0.58            0.0   \n",
       "3         4  2017-12-01     0.75      0.9            0.58            0.0   \n",
       "4         1  2014-02-01     0.40      0.9            0.58            0.6   \n",
       "...     ...         ...      ...      ...             ...            ...   \n",
       "1179      4  2017-12-01     0.75      0.9            0.58            0.0   \n",
       "1180      1  2014-02-01     0.40      0.9            0.58            0.6   \n",
       "1181      2  2015-05-01     0.50      0.9            0.58            0.0   \n",
       "1182      3  2015-09-01     0.75      0.9            0.58            0.0   \n",
       "1183      4  2017-12-01     0.75      0.9            0.58            0.0   \n",
       "\n",
       "      grid_cell  discard_type_flag  killing_initial  killing_decay_constant  \\\n",
       "0           544                  0             0.70                     781   \n",
       "1           544                  1             0.39                     781   \n",
       "2           544                  1             0.34                     781   \n",
       "3           544                  1             0.70                     781   \n",
       "4           579                  0             0.70                     781   \n",
       "...         ...                ...              ...                     ...   \n",
       "1179       1205                  1             0.70                     781   \n",
       "1180       1206                  0             0.70                     781   \n",
       "1181       1206                  1             0.39                     781   \n",
       "1182       1206                  1             0.34                     781   \n",
       "1183       1206                  1             0.70                     781   \n",
       "\n",
       "      blocking_initial  blocking_decay_constant  max_season_cov_day   pop  \n",
       "0                 0.60                     2046                  40   6.0  \n",
       "1                 0.48                     2046                  40   6.0  \n",
       "2                 0.45                     2046                  40   6.0  \n",
       "3                 0.60                     2046                  40   6.0  \n",
       "4                 0.60                     2046                  40   6.0  \n",
       "...                ...                      ...                 ...   ...  \n",
       "1179              0.60                     2046                  40   3.0  \n",
       "1180              0.60                     2046                  40  37.0  \n",
       "1181              0.48                     2046                  40  37.0  \n",
       "1182              0.45                     2046                  40  37.0  \n",
       "1183              0.60                     2046                  40  37.0  \n",
       "\n",
       "[1184 rows x 14 columns]"
      ]
     },
     "execution_count": 19,
     "metadata": {},
     "output_type": "execute_result"
    }
   ],
   "source": [
    "df_itn"
   ]
  },
  {
   "cell_type": "code",
   "execution_count": 17,
   "id": "fca918aa-852b-44d5-b517-56c4ccfb53bd",
   "metadata": {
    "tags": []
   },
   "outputs": [
    {
     "name": "stdout",
     "output_type": "stream",
     "text": [
      "['2014-02-01']\n",
      "['2015-05-01']\n",
      "['2015-09-01']\n",
      "['2017-12-01']\n"
     ]
    }
   ],
   "source": [
    "for i, sdf in df_itn.groupby(\"event\"):\n",
    "    print(sdf[\"fulldate\"].unique())"
   ]
  },
  {
   "cell_type": "code",
   "execution_count": 23,
   "id": "f3103568-f9b2-4ac1-af48-5338c3afcf6f",
   "metadata": {
    "tags": []
   },
   "outputs": [],
   "source": [
    "def weighted_average(group, col_name, weight_column=\"pop\"):\n",
    "    return (group[col_name] * group[weight_column]).sum() / group[weight_column].sum()\n"
   ]
  },
  {
   "cell_type": "code",
   "execution_count": 22,
   "id": "ff69f1a8-8522-452e-80d2-747fa39a6980",
   "metadata": {
    "tags": []
   },
   "outputs": [],
   "source": [
    "from functools import partial"
   ]
  },
  {
   "cell_type": "code",
   "execution_count": 26,
   "id": "815f9bc2-4c93-4e75-85f9-d5f14d2228e8",
   "metadata": {
    "tags": []
   },
   "outputs": [
    {
     "data": {
      "text/plain": [
       "event\n",
       "1    0.400000\n",
       "2    0.500000\n",
       "3    0.704861\n",
       "4    0.750000\n",
       "dtype: float64"
      ]
     },
     "execution_count": 26,
     "metadata": {},
     "output_type": "execute_result"
    }
   ],
   "source": [
    "df_itn.groupby(\"event\").apply(partial(weighted_average, col_name=\"cov_all\"))"
   ]
  },
  {
   "cell_type": "code",
   "execution_count": 27,
   "id": "328c5979-7762-44c9-a7c5-2c43ce80e988",
   "metadata": {
    "tags": []
   },
   "outputs": [
    {
     "data": {
      "text/plain": [
       "event\n",
       "1    0.9\n",
       "2    0.9\n",
       "3    0.9\n",
       "4    0.9\n",
       "dtype: float64"
      ]
     },
     "execution_count": 27,
     "metadata": {},
     "output_type": "execute_result"
    }
   ],
   "source": [
    "df_itn.groupby(\"event\").apply(partial(weighted_average, col_name=\"age_cov\"))"
   ]
  },
  {
   "cell_type": "code",
   "execution_count": 28,
   "id": "208b0409-7b25-4d98-9ed4-2124e816d718",
   "metadata": {
    "tags": []
   },
   "outputs": [
    {
     "data": {
      "text/plain": [
       "event\n",
       "1    0.58\n",
       "2    0.58\n",
       "3    0.58\n",
       "4    0.58\n",
       "dtype: float64"
      ]
     },
     "execution_count": 28,
     "metadata": {},
     "output_type": "execute_result"
    }
   ],
   "source": [
    "df_itn.groupby(\"event\").apply(partial(weighted_average, col_name=\"min_season_cov\"))"
   ]
  },
  {
   "cell_type": "code",
   "execution_count": 32,
   "id": "f157cb06-6c70-4959-9439-1c6e0e816274",
   "metadata": {
    "tags": []
   },
   "outputs": [
    {
     "data": {
      "text/plain": [
       "event\n",
       "1    0.60\n",
       "2    0.48\n",
       "3    0.45\n",
       "4    0.60\n",
       "dtype: float64"
      ]
     },
     "execution_count": 32,
     "metadata": {},
     "output_type": "execute_result"
    }
   ],
   "source": [
    "df_itn.groupby(\"event\").apply(partial(weighted_average, col_name=\"blocking_initial\"))"
   ]
  },
  {
   "cell_type": "code",
   "execution_count": null,
   "id": "094642db-103c-4ec9-8480-5a5ff53674df",
   "metadata": {},
   "outputs": [],
   "source": []
  }
 ],
 "metadata": {
  "kernelspec": {
   "display_name": "Python 3 (ipykernel)",
   "language": "python",
   "name": "python3"
  },
  "language_info": {
   "codemirror_mode": {
    "name": "ipython",
    "version": 3
   },
   "file_extension": ".py",
   "mimetype": "text/x-python",
   "name": "python",
   "nbconvert_exporter": "python",
   "pygments_lexer": "ipython3",
   "version": "3.9.13"
  }
 },
 "nbformat": 4,
 "nbformat_minor": 5
}
